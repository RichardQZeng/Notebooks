{
 "cells": [
  {
   "cell_type": "code",
   "execution_count": 6,
   "metadata": {},
   "outputs": [
    {
     "name": "stdout",
     "output_type": "stream",
     "text": [
      "The cython extension is already loaded. To reload it, use:\n",
      "  %reload_ext cython\n"
     ]
    }
   ],
   "source": [
    "import concurrent\n",
    "import threading\n",
    "import numpy as np\n",
    "import cython\n",
    "\n",
    "infile = r\"D:\\Temp\\example.tif\"\n",
    "outfile = r\"D:\\Temp\\example_threaded.tif\"\n",
    "num_workers = 10\n",
    "\n",
    "%load_ext cython"
   ]
  },
  {
   "cell_type": "code",
   "execution_count": 15,
   "metadata": {},
   "outputs": [
    {
     "name": "stderr",
     "output_type": "stream",
     "text": [
      "warning: C:\\Users\\qingyerichard.zeng\\.ipython\\cython\\_cython_magic_35f26cc74dbc5b59dd90b9a22e590f0ce1596a4e.pyx:23:39: Use boundscheck(False) for faster access\n",
      "warning: C:\\Users\\qingyerichard.zeng\\.ipython\\cython\\_cython_magic_35f26cc74dbc5b59dd90b9a22e590f0ce1596a4e.pyx:27:31: Use boundscheck(False) for faster access\n"
     ]
    },
    {
     "name": "stdout",
     "output_type": "stream",
     "text": [
      "Content of stdout:\n",
      "_cython_magic_35f26cc74dbc5b59dd90b9a22e590f0ce1596a4e.c\n",
      "C:\\Users\\qingyerichard.zeng\\.ipython\\cython\\_cython_magic_35f26cc74dbc5b59dd90b9a22e590f0ce1596a4e.c(17546): warning C4244: '=': conversion from 'Py_ssize_t' to 'int', possible loss of data\n",
      "C:\\Users\\qingyerichard.zeng\\.ipython\\cython\\_cython_magic_35f26cc74dbc5b59dd90b9a22e590f0ce1596a4e.c(17555): warning C4244: '=': conversion from 'Py_ssize_t' to 'int', possible loss of data\n",
      "C:\\Users\\qingyerichard.zeng\\.ipython\\cython\\_cython_magic_35f26cc74dbc5b59dd90b9a22e590f0ce1596a4e.c(17564): warning C4244: '=': conversion from 'Py_ssize_t' to 'int', possible loss of data\n",
      "   Creating library C:\\Users\\qingyerichard.zeng\\.ipython\\cython\\Users\\qingyerichard.zeng\\.ipython\\cython\\_cython_magic_35f26cc74dbc5b59dd90b9a22e590f0ce1596a4e.cp311-win_amd64.lib and object C:\\Users\\qingyerichard.zeng\\.ipython\\cython\\Users\\qingyerichard.zeng\\.ipython\\cython\\_cython_magic_35f26cc74dbc5b59dd90b9a22e590f0ce1596a4e.cp311-win_amd64.exp\n",
      "Generating code\n",
      "Finished generating code"
     ]
    }
   ],
   "source": [
    "%%cython \n",
    "import numpy as np\n",
    "\n",
    "# cython: boundscheck=False\n",
    "def compute(double[:, :, :] input):\n",
    "    \"\"\"reverses bands inefficiently\n",
    "\n",
    "    Given input and output uint8 arrays, fakes an CPU-intensive\n",
    "    computation.\n",
    "    \"\"\"\n",
    "    cdef int I, J, K\n",
    "    cdef int i, j, k, l\n",
    "    cdef double val\n",
    "    I = input.shape[0]\n",
    "    J = input.shape[1]\n",
    "    K = input.shape[2]\n",
    "    print(I, J, K)\n",
    "    output = np.empty((I, J, K), dtype='double')\n",
    "    cdef double[:, :, :] output_view = output\n",
    "    with nogil:\n",
    "        for i in range(I):\n",
    "            for j in range(J):\n",
    "                for k in range(K):\n",
    "                    val = <double>input[i, j, k]\n",
    "                    for l in range(2000):\n",
    "                        val += 1.0\n",
    "                    val -= 2000.0\n",
    "                    output_view[~i, j, k] = <double>val\n",
    "    return output"
   ]
  },
  {
   "cell_type": "code",
   "execution_count": 18,
   "metadata": {},
   "outputs": [],
   "source": [
    "import concurrent.futures\n",
    "import multiprocessing\n",
    "import threading\n",
    "\n",
    "import rasterio\n",
    "from rasterio._example import compute\n",
    "\n",
    "\n",
    "def main(infile, outfile, num_workers=10):\n",
    "    \"\"\"Process infile block-by-block and write to a new file\n",
    "\n",
    "    The output is the same as the input, but with band order\n",
    "    reversed.\n",
    "    \"\"\"\n",
    "\n",
    "    with rasterio.open(infile) as src:\n",
    "\n",
    "        # Create a destination dataset based on source params. The\n",
    "        # destination will be tiled, and we'll process the tiles\n",
    "        # concurrently.\n",
    "        profile = src.profile\n",
    "        profile.update(blockxsize=128, blockysize=128, tiled=True)\n",
    "\n",
    "        with rasterio.open(outfile, \"w\", **src.profile) as dst:\n",
    "            windows = [window for ij, window in dst.block_windows()]\n",
    "\n",
    "            # We cannot write to the same file from multiple threads\n",
    "            # without causing race conditions. To safely read/write\n",
    "            # from multiple threads, we use a lock to protect the\n",
    "            # DatasetReader/Writer\n",
    "            read_lock = threading.Lock()\n",
    "            write_lock = threading.Lock()\n",
    "\n",
    "            def process(window):\n",
    "                with read_lock:\n",
    "                    src_array = src.read(window=window)\n",
    "\n",
    "                # The computation can be performed concurrently\n",
    "                result = compute(src_array)\n",
    "                print('process')\n",
    "\n",
    "                with write_lock:\n",
    "                    dst.write(result, window=window)\n",
    "\n",
    "            # We map the process() function over the list of\n",
    "            # windows.\n",
    "            with concurrent.futures.ThreadPoolExecutor(\n",
    "                max_workers=num_workers\n",
    "            ) as executor:\n",
    "                executor.map(process, windows)\n"
   ]
  },
  {
   "cell_type": "code",
   "execution_count": 19,
   "metadata": {},
   "outputs": [],
   "source": [
    "\n",
    "main(infile, outfile)"
   ]
  },
  {
   "cell_type": "markdown",
   "metadata": {},
   "source": [
    "Another example for "
   ]
  },
  {
   "cell_type": "code",
   "execution_count": null,
   "metadata": {},
   "outputs": [],
   "source": [
    "import rasterio\n",
    "with rasterio.open(r\"D:\\Temp\\example.tif\") as src:\n",
    "    profile = src.profile\n",
    "    with rasterio.open(r\"D:\\Temp\\example_copy.tif\", 'w', **profile) as dst:\n",
    "        for ji, window in src.block_windows(1):\n",
    "            r = src.read(1, window=window)\n",
    "            print(r.shape)\n",
    "            break"
   ]
  }
 ],
 "metadata": {
  "kernelspec": {
   "display_name": "data",
   "language": "python",
   "name": "python3"
  },
  "language_info": {
   "codemirror_mode": {
    "name": "ipython",
    "version": 3
   },
   "file_extension": ".py",
   "mimetype": "text/x-python",
   "name": "python",
   "nbconvert_exporter": "python",
   "pygments_lexer": "ipython3",
   "version": "3.11.8"
  }
 },
 "nbformat": 4,
 "nbformat_minor": 2
}
