{
 "cells": [
  {
   "cell_type": "code",
   "execution_count": null,
   "metadata": {},
   "outputs": [],
   "source": [
    "import numpy as np\n",
    "import matplotlib.pyplot as plt\n",
    "import leafmap"
   ]
  },
  {
   "cell_type": "code",
   "execution_count": null,
   "metadata": {},
   "outputs": [],
   "source": [
    "# Data for plotting\n",
    "t = np.arange(0.0, 3.0, 0.01)\n",
    "s = 1 + np.sin(2 * np.pi * t)\n",
    "\n",
    "fig, ax = plt.subplots(figsize=(4, 3))\n",
    "ax.plot(t, s)\n",
    "\n",
    "ax.set(\n",
    "    xlabel=\"time (s)\", ylabel=\"voltage (mV)\", title=\"About as simple as it gets, folks\"\n",
    ")\n",
    "ax.grid()"
   ]
  },
  {
   "cell_type": "code",
   "execution_count": null,
   "metadata": {},
   "outputs": [],
   "source": [
    "m = leafmap.Map()\n",
    "m.add_widget(fig, position=\"bottomright\")\n",
    "m"
   ]
  },
  {
   "cell_type": "code",
   "execution_count": null,
   "metadata": {},
   "outputs": [],
   "source": [
    "import plotly.express as px\n",
    "import folium\n",
    "import branca\n",
    "\n",
    "filepath = r\"C:\\BERATools\\Notebooks\\popup_map.html\"\n",
    "df = px.data.gapminder().query(\"country=='Canada'\")\n",
    "fig = px.line(df, x=\"year\", y=\"lifeExp\", title='Life expectancy in Canada')\n",
    "fig.update_layout(margin=dict(t=30,l=10,b=10,r=10))\n",
    "fig.write_html(filepath)\n",
    "\n",
    "with open(filepath , encoding='utf-8') as f:\n",
    "    html = f.read()\n",
    "\n",
    "import codecs\n",
    "f=codecs.open(filepath, 'r')\n",
    "html = f.read()\n",
    "\n",
    "coor1= [19.742110608748604, -99.01751491998121]\n",
    "geomap = folium.Map([19.715576, -99.20099], zoom_start=9, tiles=\"OpenStreetMap\")\n",
    "\n",
    "iframe = branca.element.IFrame(html=html, width=500, height=300)\n",
    "popup = folium.Popup(iframe, max_width=500)\n",
    "\n",
    "folium.Marker([coor1[0],coor1[1]], popup=popup).add_to(geomap)\n",
    "\n",
    "geomap"
   ]
  },
  {
   "cell_type": "code",
   "execution_count": null,
   "metadata": {},
   "outputs": [],
   "source": [
    "m = folium.Map([43,-100], zoom_start=4)\n",
    "\n",
    "html=\"\"\"\n",
    "    <h1> This is a big popup</h1><br>\n",
    "    With a few lines of code...\n",
    "    <p>\n",
    "    <code>\n",
    "        from numpy import *<br>\n",
    "        exp(-2*pi)\n",
    "    </code>\n",
    "    </p>\n",
    "    <img src=\"https://upload.wikimedia.org/wikipedia/commons/thumb/2/27/Keylong_West_Lahaul_Himachal_Oct22_A7C_03375_panorama.jpg/800px-Keylong_West_Lahaul_Himachal_Oct22_A7C_03375_panorama.jpg\" alt=\"image\">\n",
    "    \"\"\"\n",
    "iframe = branca.element.IFrame(html=html, width=500, height=300)\n",
    "popup = folium.Popup(iframe, max_width=2650)\n",
    "\n",
    "folium.Marker([30,-100], popup=popup).add_to(m)\n",
    "\n",
    "m"
   ]
  }
 ],
 "metadata": {
  "kernelspec": {
   "display_name": "bera39",
   "language": "python",
   "name": "python3"
  },
  "language_info": {
   "codemirror_mode": {
    "name": "ipython",
    "version": 3
   },
   "file_extension": ".py",
   "mimetype": "text/x-python",
   "name": "python",
   "nbconvert_exporter": "python",
   "pygments_lexer": "ipython3",
   "version": "3.11.8"
  }
 },
 "nbformat": 4,
 "nbformat_minor": 2
}
