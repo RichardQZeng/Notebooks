{
 "cells": [
  {
   "cell_type": "code",
   "execution_count": null,
   "metadata": {},
   "outputs": [],
   "source": [
    "import geopandas as gpd\n",
    "from palettable.colorbrewer.sequential import Blues_8\n",
    "\n",
    "from lonboard import Map, PathLayer\n",
    "from lonboard.colormap import apply_continuous_cmap"
   ]
  },
  {
   "cell_type": "code",
   "execution_count": null,
   "metadata": {},
   "outputs": [],
   "source": [
    "url = \"https://storage.googleapis.com/fao-maps-catalog-data/geonetwork/aquamaps/rivers_asia_37331.zip\"\n",
    "gdf = gpd.read_file(url, engine=\"pyogrio\")\n",
    "gdf[\"Strahler\"].value_counts()"
   ]
  },
  {
   "cell_type": "code",
   "execution_count": null,
   "metadata": {},
   "outputs": [],
   "source": [
    "layer = PathLayer.from_geopandas(gdf)\n",
    "layer.get_color = apply_continuous_cmap(gdf[\"Strahler\"] / 7, Blues_8)\n",
    "layer.get_width = gdf[\"Strahler\"]\n",
    "layer.width_scale = 3000\n",
    "layer.width_min_pixels = 0.5\n",
    "\n",
    "m = Map(layers=[layer])\n",
    "m"
   ]
  }
 ],
 "metadata": {
  "kernelspec": {
   "display_name": "data",
   "language": "python",
   "name": "python3"
  },
  "language_info": {
   "codemirror_mode": {
    "name": "ipython",
    "version": 3
   },
   "file_extension": ".py",
   "mimetype": "text/x-python",
   "name": "python",
   "nbconvert_exporter": "python",
   "pygments_lexer": "ipython3",
   "version": "3.11.9"
  }
 },
 "nbformat": 4,
 "nbformat_minor": 2
}
