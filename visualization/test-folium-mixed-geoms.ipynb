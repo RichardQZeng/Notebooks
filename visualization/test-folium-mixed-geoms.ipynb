{
 "cells": [
  {
   "cell_type": "code",
   "execution_count": null,
   "metadata": {},
   "outputs": [],
   "source": [
    "import geopandas as gpd\n",
    "import pandas as pd\n",
    "import folium\n",
    "from folium.plugins import MeasureControl\n",
    "import shapely\n",
    "from shapely.geometry import Point, LineString, Polygon, MultiPolygon, MultiPoint, MultiLineString\n",
    "from shapely.ops import split, snap\n",
    "from shapely.affinity import scale\n",
    "import matplotlib.pyplot as plt\n",
    "import math\n",
    "\n",
    "import os\n",
    "import sys\n",
    "module_path = os.path.abspath(os.path.join('..'))\n",
    "if module_path not in sys.path:\n",
    "    sys.path.append(module_path)\n",
    "\n",
    "module_path = os.path.abspath(os.path.join(r'..\\BTools\\beratools\\tools'))\n",
    "if module_path not in sys.path:\n",
    "    sys.path.append(module_path)\n",
    "\n",
    "from BTools.beratools.tools.line_footprint_fixed import *\n",
    "\n",
    "\n",
    "from label_centerlines import get_centerline\n",
    "\n",
    "lcpath = gpd.read_file(r\"C:\\BERATools\\Surmont_New_AOI\\test_selected_lines\\selected_lines-debug.shp\")\n",
    "cl = gpd.read_file(r\"C:\\BERATools\\Surmont_New_AOI\\test_selected_lines\\centerlines.shp\")\n",
    "poly = gpd.read_file(r\"C:\\BERATools\\Surmont_New_AOI\\test_selected_lines\\centerlines_corridor_poly.shp\")\n",
    "\n",
    "mapa = folium.Map([56.224917, -110.713430],\n",
    "    zoom_start=17,\n",
    "    tiles='cartodbpositron',\n",
    "    max_zoom=24)\n",
    "\n",
    "geoms = gpd.GeoDataFrame(geometry=[lcpath.geometry.iloc[0], cl.geometry.iloc[0], poly.geometry.iloc[0]], crs='EPSG:26912')\n",
    "geoms['color'] = ['#E0DB4D', '#288519', '#553a70']\n",
    "gjson = geoms.to_crs(epsg='4326').to_json()\n",
    "# geoms.plot(color=geoms['color'])\n",
    "\n",
    "folium.GeoJson(\n",
    "    gjson,\n",
    "    style_function=lambda feature: {\n",
    "        \"fillColor\": feature[\"properties\"][\"color\"],\n",
    "        \"color\": feature[\"properties\"][\"color\"],\n",
    "        \"weight\": 2,\n",
    "        \"dashArray\": \"0, 0\",\n",
    "    },\n",
    ").add_to(mapa)"
   ]
  },
  {
   "cell_type": "code",
   "execution_count": null,
   "metadata": {},
   "outputs": [],
   "source": [
    "lcp = lcpath.geometry.iloc[0]\n",
    "if centerline_is_valid(cl.geometry.iloc[0], lcp):\n",
    "    print('Centerline is invalid')\n",
    "\n",
    "center_line = regenerate_centerline(poly.geometry.iloc[0], lcp)"
   ]
  },
  {
   "cell_type": "code",
   "execution_count": null,
   "metadata": {},
   "outputs": [],
   "source": [
    "type(center_line)"
   ]
  },
  {
   "cell_type": "code",
   "execution_count": null,
   "metadata": {},
   "outputs": [],
   "source": [
    "geoms_cl = gpd.GeoDataFrame(geometry=[center_line], crs='EPSG:26912')\n",
    "geoms_cl['color'] = ['#5E31DE']\n",
    "gjson_cl = geoms_cl.to_crs(epsg='4326').to_json()\n",
    "\n",
    "folium.GeoJson(\n",
    "    gjson_cl,\n",
    "    style_function=lambda feature: {\n",
    "        \"fillColor\": feature[\"properties\"][\"color\"],\n",
    "        \"color\": feature[\"properties\"][\"color\"],\n",
    "        \"weight\": 2,\n",
    "        \"dashArray\": \"0, 0\",\n",
    "    },\n",
    ").add_to(mapa)"
   ]
  },
  {
   "cell_type": "code",
   "execution_count": null,
   "metadata": {},
   "outputs": [],
   "source": [
    "from pyproj import Transformer\n",
    "transformer = Transformer.from_crs(26912, 4326, always_xy=True)\n",
    "start = shapely.force_2d(transform(transformer.transform, Point(list(center_line.geoms[0].coords)[0])))\n",
    "end = shapely.force_2d(transform(transformer.transform, Point(list(center_line.geoms[1].coords)[-1])))"
   ]
  },
  {
   "cell_type": "code",
   "execution_count": null,
   "metadata": {},
   "outputs": [],
   "source": [
    "folium.Marker(location=[start.y, start.x], popup='center').add_to(mapa)\n",
    "folium.Marker(location=[end.y, end.x], popup='center').add_to(mapa)"
   ]
  },
  {
   "cell_type": "code",
   "execution_count": null,
   "metadata": {},
   "outputs": [],
   "source": [
    "mapa.add_child(MeasureControl())\n",
    "mapa"
   ]
  },
  {
   "cell_type": "code",
   "execution_count": null,
   "metadata": {},
   "outputs": [],
   "source": [
    "mapa.save(r'D:\\Temp\\test.html')"
   ]
  }
 ],
 "metadata": {
  "kernelspec": {
   "display_name": "bera",
   "language": "python",
   "name": "python3"
  },
  "language_info": {
   "codemirror_mode": {
    "name": "ipython",
    "version": 3
   },
   "file_extension": ".py",
   "mimetype": "text/x-python",
   "name": "python",
   "nbconvert_exporter": "python",
   "pygments_lexer": "ipython3",
   "version": "3.10.14"
  }
 },
 "nbformat": 4,
 "nbformat_minor": 2
}
