{
 "cells": [
  {
   "cell_type": "code",
   "execution_count": null,
   "metadata": {},
   "outputs": [],
   "source": [
    "import pydeck as pdk\n",
    "import pandas as pd\n",
    "\n",
    "TRIPS_LAYER_DATA = \"https://raw.githubusercontent.com/visgl/deck.gl-data/master/website/sf.trips.json\"  # noqa\n",
    "\n",
    "df = pd.read_json(TRIPS_LAYER_DATA)\n",
    "\n",
    "df[\"coordinates\"] = df[\"waypoints\"].apply(lambda f: [item[\"coordinates\"] for item in f])\n",
    "df[\"timestamps\"] = df[\"waypoints\"].apply(\n",
    "    lambda f: [item[\"timestamp\"] - 1554772579000 for item in f]\n",
    ")\n",
    "\n",
    "df.drop([\"waypoints\"], axis=1, inplace=True)\n",
    "\n",
    "layer = pdk.Layer(\n",
    "    \"TripsLayer\",\n",
    "    df,\n",
    "    get_path=\"coordinates\",\n",
    "    get_timestamps=\"timestamps\",\n",
    "    get_color=[253, 128, 93],\n",
    "    opacity=0.8,\n",
    "    width_min_pixels=5,\n",
    "    rounded=True,\n",
    "    trail_length=600,\n",
    "    current_time=500,\n",
    ")\n",
    "\n",
    "view_state = pdk.ViewState(\n",
    "    latitude=37.7749295, longitude=-122.4194155, zoom=11, bearing=0, pitch=45\n",
    ")\n",
    "\n",
    "# Render\n",
    "r = pdk.Deck(layers=[layer], initial_view_state=view_state)"
   ]
  },
  {
   "cell_type": "code",
   "execution_count": null,
   "metadata": {},
   "outputs": [],
   "source": [
    "r"
   ]
  }
 ],
 "metadata": {
  "kernelspec": {
   "display_name": "data",
   "language": "python",
   "name": "python3"
  },
  "language_info": {
   "codemirror_mode": {
    "name": "ipython",
    "version": 3
   },
   "file_extension": ".py",
   "mimetype": "text/x-python",
   "name": "python",
   "nbconvert_exporter": "python",
   "pygments_lexer": "ipython3",
   "version": "3.11.9"
  }
 },
 "nbformat": 4,
 "nbformat_minor": 2
}
