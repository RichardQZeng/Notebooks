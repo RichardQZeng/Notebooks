{
 "cells": [
  {
   "cell_type": "code",
   "execution_count": null,
   "metadata": {},
   "outputs": [],
   "source": [
    "import pydeck as pdk\n",
    "\n",
    "DATA_URL = \"https://api.data.gov.sg/v1/transport/taxi-availability\"\n",
    "COLOR_RANGE = [\n",
    "    [255, 255, 178, 25],\n",
    "    [254, 217, 118, 85],\n",
    "    [254, 178, 76, 127],\n",
    "    [253, 141, 60, 170],\n",
    "    [240, 59, 32, 212],\n",
    "    [189, 0, 38, 255],\n",
    "]"
   ]
  },
  {
   "cell_type": "code",
   "execution_count": null,
   "metadata": {},
   "outputs": [],
   "source": [
    "import pandas as pd\n",
    "import requests\n",
    "\n",
    "json = requests.get(DATA_URL).json()\n",
    "df = pd.DataFrame(json[\"features\"][0][\"geometry\"][\"coordinates\"])\n",
    "df.columns = [\"lng\", \"lat\"]\n",
    "\n",
    "viewport = pdk.data_utils.compute_view(df[[\"lng\", \"lat\"]])\n",
    "layer = pdk.Layer(\n",
    "    \"ScreenGridLayer\",\n",
    "    df,\n",
    "    get_position=[\"lng\", \"lat\"],\n",
    "    cell_size_pixels=20,\n",
    "    color_range=COLOR_RANGE,\n",
    "    pickable=True,\n",
    "    auto_highlight=True,\n",
    ")\n",
    "r = pdk.Deck(layers=[layer], initial_view_state=viewport)"
   ]
  },
  {
   "cell_type": "code",
   "execution_count": null,
   "metadata": {},
   "outputs": [],
   "source": [
    "r"
   ]
  },
  {
   "cell_type": "code",
   "execution_count": null,
   "metadata": {},
   "outputs": [],
   "source": [
    "from ipywidgets import HTML\n",
    "\n",
    "text = HTML(value=\"Points in viewport:\")\n",
    "layer = pdk.Layer(\n",
    "    \"ScatterplotLayer\",\n",
    "    df,\n",
    "    get_position=[\"lng\", \"lat\"],\n",
    "    get_fill_color=[255, 0, 0],\n",
    "    get_radius=100,\n",
    ")\n",
    "r = pdk.Deck(layer, initial_view_state=viewport)"
   ]
  },
  {
   "cell_type": "code",
   "execution_count": null,
   "metadata": {},
   "outputs": [],
   "source": [
    "r"
   ]
  },
  {
   "cell_type": "markdown",
   "metadata": {},
   "source": [
    "Filtering"
   ]
  },
  {
   "cell_type": "code",
   "execution_count": null,
   "metadata": {},
   "outputs": [],
   "source": [
    "def filter_by_bbox(row, west_lng, east_lng, north_lat, south_lat):\n",
    "    return west_lng < row[\"lng\"] < east_lng and south_lat < row[\"lat\"] < north_lat\n",
    "\n",
    "\n",
    "def filter_by_viewport(widget_instance, payload):\n",
    "    try:\n",
    "        west_lng, north_lat = payload[\"data\"][\"nw\"]\n",
    "        east_lng, south_lat = payload[\"data\"][\"se\"]\n",
    "        filtered_df = df[\n",
    "            df.apply(\n",
    "                lambda row: filter_by_bbox(\n",
    "                    row, west_lng, east_lng, north_lat, south_lat\n",
    "                ),\n",
    "                axis=1,\n",
    "            )\n",
    "        ]\n",
    "        text.value = \"Points in viewport: %s\" % int(filtered_df.count()[\"lng\"])\n",
    "    except Exception as e:\n",
    "        text.value = \"Error: %s\" % e\n",
    "\n",
    "\n",
    "r.deck_widget.on_view_state_change(filter_by_viewport)\n",
    "display(text)"
   ]
  },
  {
   "cell_type": "code",
   "execution_count": null,
   "metadata": {},
   "outputs": [],
   "source": [
    "r"
   ]
  },
  {
   "cell_type": "code",
   "execution_count": null,
   "metadata": {},
   "outputs": [],
   "source": []
  }
 ],
 "metadata": {
  "kernelspec": {
   "display_name": "data",
   "language": "python",
   "name": "python3"
  },
  "language_info": {
   "codemirror_mode": {
    "name": "ipython",
    "version": 3
   },
   "file_extension": ".py",
   "mimetype": "text/x-python",
   "name": "python",
   "nbconvert_exporter": "python",
   "pygments_lexer": "ipython3",
   "version": "3.11.9"
  }
 },
 "nbformat": 4,
 "nbformat_minor": 2
}
