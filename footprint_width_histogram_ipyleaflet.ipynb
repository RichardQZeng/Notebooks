{
 "cells": [
  {
   "cell_type": "code",
   "execution_count": null,
   "metadata": {
    "ExecuteTime": {
     "end_time": "2024-03-27T22:03:00.114246Z",
     "start_time": "2024-03-27T22:03:00.105743Z"
    }
   },
   "outputs": [],
   "source": [
    "import os\n",
    "import json\n",
    "\n",
    "import numpy as np\n",
    "import pandas as pd\n",
    "import geopandas as gpd\n",
    "from datetime import date\n",
    "import requests\n",
    "from ast import literal_eval\n",
    "\n",
    "from bqplot import Lines, Figure, LinearScale, DateScale, Axis, Hist\n",
    "\n",
    "from ipyleaflet import Map, GeoJSON, WidgetControl, ImageOverlay\n",
    "from ipywidgets import Layout, Dropdown"
   ]
  },
  {
   "cell_type": "code",
   "execution_count": null,
   "metadata": {
    "ExecuteTime": {
     "end_time": "2024-03-27T22:03:01.333216Z",
     "start_time": "2024-03-27T22:03:00.127254Z"
    }
   },
   "outputs": [],
   "source": [
    "\n",
    "# res = requests.get(\"https://raw.githubusercontent.com/RichardQZeng/Notebooks/main/footprint_fixed.geojson\")\n",
    "# gdf = gpd.read_file(res.text)\n",
    "gdf = gpd.read_file(r\"C:\\BERATools\\Notebooks\\footprint_fixed-4326.geojson\")"
   ]
  },
  {
   "cell_type": "code",
   "execution_count": null,
   "metadata": {
    "ExecuteTime": {
     "end_time": "2024-03-27T22:03:01.419261Z",
     "start_time": "2024-03-27T22:03:01.340224Z"
    }
   },
   "outputs": [],
   "source": [
    "def array_eval(x):\n",
    "    array_str = ','.join(x.split())\n",
    "    array_str = array_str.replace('[,', '[')\n",
    "    array_str = array_str.replace('\\n', '')\n",
    "    return np.array(literal_eval(array_str))\n",
    "    \n",
    "gdf['sampling_widths'] = gdf['sampling_widths'].apply(array_eval)"
   ]
  },
  {
   "cell_type": "code",
   "execution_count": null,
   "metadata": {
    "ExecuteTime": {
     "end_time": "2024-03-27T22:03:01.434492Z",
     "start_time": "2024-03-27T22:03:01.423269Z"
    }
   },
   "outputs": [],
   "source": [
    "gdf['OLnFID']"
   ]
  },
  {
   "cell_type": "code",
   "execution_count": null,
   "metadata": {
    "ExecuteTime": {
     "end_time": "2024-03-27T22:03:01.452584Z",
     "start_time": "2024-03-27T22:03:01.444501Z"
    }
   },
   "outputs": [],
   "source": [
    "def clean_data(data):\n",
    "    for column in [\"income\", \"lifeExpectancy\", \"population\"]:\n",
    "        data = data.drop(data[data[column].apply(len) <= 4].index)\n",
    "    return data\n",
    "\n",
    "\n",
    "def extrap_interp(data):\n",
    "    data = np.array(data)\n",
    "    x_range = np.arange(1800, 2009, 1.0)\n",
    "    y_range = np.interp(x_range, data[:, 0], data[:, 1])\n",
    "    return y_range\n",
    "\n",
    "\n",
    "def extrap_data(data):\n",
    "    for column in [\"income\", \"lifeExpectancy\", \"population\"]:\n",
    "        data[column] = data[column].apply(extrap_interp)\n",
    "    return data"
   ]
  },
  {
   "cell_type": "code",
   "execution_count": null,
   "metadata": {
    "ExecuteTime": {
     "end_time": "2024-03-27T22:03:01.467077Z",
     "start_time": "2024-03-27T22:03:01.456593Z"
    }
   },
   "outputs": [],
   "source": [
    "line_id = 0\n",
    "x_data = gdf[gdf['OLnFID'] == 0]['sampling_widths'].values[0]"
   ]
  },
  {
   "cell_type": "code",
   "execution_count": null,
   "metadata": {
    "ExecuteTime": {
     "end_time": "2024-03-27T22:03:01.482210Z",
     "start_time": "2024-03-27T22:03:01.471087Z"
    }
   },
   "outputs": [],
   "source": [
    "x_data"
   ]
  },
  {
   "cell_type": "code",
   "execution_count": null,
   "metadata": {
    "ExecuteTime": {
     "end_time": "2024-03-27T22:03:01.500866Z",
     "start_time": "2024-03-27T22:03:01.488220Z"
    }
   },
   "outputs": [],
   "source": [
    "x_sc = LinearScale()\n",
    "y_sc = LinearScale()\n",
    "\n",
    "hist = Hist(sample=x_data, scales={\"sample\": x_sc, \"count\": y_sc})\n",
    "ax_x = Axis(scale=x_sc, tick_format=\"0.2f\")\n",
    "ax_y = Axis(scale=y_sc, orientation=\"vertical\")\n",
    "hist.bins = 10\n",
    "\n",
    "figure = Figure(marks=[hist], axes=[ax_x, ax_y], padding_y=0)"
   ]
  },
  {
   "cell_type": "code",
   "execution_count": null,
   "metadata": {
    "ExecuteTime": {
     "end_time": "2024-03-27T22:03:01.515195Z",
     "start_time": "2024-03-27T22:03:01.507876Z"
    }
   },
   "outputs": [],
   "source": [
    "def update_figure(line_id):\n",
    "    hist.sample = gdf[gdf['OLnFID'] == line_id]['sampling_widths'].values[0]\n",
    "    ax_y.label = str(line_id)"
   ]
  },
  {
   "cell_type": "code",
   "execution_count": null,
   "metadata": {
    "ExecuteTime": {
     "end_time": "2024-03-27T22:03:01.531603Z",
     "start_time": "2024-03-27T22:03:01.523207Z"
    }
   },
   "outputs": [],
   "source": [
    "update_figure(line_id)"
   ]
  },
  {
   "cell_type": "code",
   "execution_count": null,
   "metadata": {
    "ExecuteTime": {
     "end_time": "2024-03-27T22:03:01.565555Z",
     "start_time": "2024-03-27T22:03:01.550612Z"
    }
   },
   "outputs": [],
   "source": [
    "with open(\"./countries.geo.json\") as f:\n",
    "    countries = json.load(f)"
   ]
  },
  {
   "cell_type": "code",
   "execution_count": null,
   "metadata": {
    "ExecuteTime": {
     "end_time": "2024-03-27T22:03:02.448160Z",
     "start_time": "2024-03-27T22:03:01.570890Z"
    }
   },
   "outputs": [],
   "source": [
    "with open(r\"C:\\BERATools\\Notebooks\\footprint_fixed-4326.geojson\") as f:\n",
    "    lines = json.load(f)\n",
    "\n",
    "with open(r\"C:\\BERATools\\Notebooks\\footprint-4326.geojson\") as f:\n",
    "    lines_org = json.load(f)"
   ]
  },
  {
   "cell_type": "code",
   "execution_count": null,
   "metadata": {
    "ExecuteTime": {
     "end_time": "2024-03-27T22:03:02.462188Z",
     "start_time": "2024-03-27T22:03:02.453166Z"
    }
   },
   "outputs": [],
   "source": [
    "m = Map(center=(56.20112069, -110.67053897),\n",
    "        zoom=14,\n",
    "        scroll_wheel_zoom=True,\n",
    "        layout=Layout(height='700px'))"
   ]
  },
  {
   "cell_type": "code",
   "execution_count": null,
   "metadata": {
    "ExecuteTime": {
     "end_time": "2024-03-27T22:03:06.872341Z",
     "start_time": "2024-03-27T22:03:02.469197Z"
    }
   },
   "outputs": [],
   "source": [
    "geo = GeoJSON(\n",
    "    data=lines,\n",
    "    style={\"fillColor\": \"white\", \"weight\": 0.5, 'opacity': 0.5,},\n",
    "    name=\"Line footprint\",\n",
    ")\n",
    "m.add(geo)\n",
    "\n",
    "geo_org = GeoJSON(\n",
    "    data=lines_org,\n",
    "    style={\"fillColor\": \"rgb(54, 49, 92)\", \"weight\": 1},\n",
    "    hover_style={\"fillColor\": \"#148ee6\"},\n",
    "    name=\"Line footprint\",\n",
    ")\n",
    "m.add(geo_org)\n",
    "\n",
    "widget_control1 = WidgetControl(widget=figure, position=\"bottomright\")\n",
    "widget_control1.min_width = 400\n",
    "\n",
    "m.add(widget_control1)\n",
    "\n",
    "\n",
    "def on_hover(event, feature, **kwargs):\n",
    "    global line_id\n",
    "\n",
    "    line_id = feature[\"properties\"][\"OLnFID\"]\n",
    "    update_figure(line_id)\n",
    "    print(\"feature\", feature)\n",
    "\n",
    "\n",
    "geo.on_hover(on_hover)"
   ]
  },
  {
   "cell_type": "code",
   "execution_count": null,
   "metadata": {},
   "outputs": [],
   "source": [
    "data_name = \"income\"\n",
    "dropdown = Dropdown(\n",
    "    options=[\"income\", \"population\", \"lifeExpectancy\"],\n",
    "    value=data_name,\n",
    "    description=\"Plotting:\",\n",
    ")\n",
    "\n",
    "\n",
    "def on_click(change):\n",
    "    global footrpint_type\n",
    "\n",
    "    footrpint_type = change[\"new\"]\n",
    "    print(change[\"new\"])\n",
    "    # update_figure(footrpint_type, line_id)\n",
    "\n",
    "\n",
    "dropdown.observe(on_click, \"value\")\n",
    "\n",
    "widget_control2 = WidgetControl(widget=dropdown, position=\"bottomleft\")\n",
    "\n",
    "# m.add(widget_control2)"
   ]
  },
  {
   "cell_type": "code",
   "execution_count": null,
   "metadata": {},
   "outputs": [],
   "source": [
    "m"
   ]
  }
 ],
 "metadata": {
  "kernelspec": {
   "display_name": "Python 3 (ipykernel)",
   "language": "python",
   "name": "python3"
  },
  "language_info": {
   "codemirror_mode": {
    "name": "ipython",
    "version": 3
   },
   "file_extension": ".py",
   "mimetype": "text/x-python",
   "name": "python",
   "nbconvert_exporter": "python",
   "pygments_lexer": "ipython3",
   "version": "3.11.8"
  }
 },
 "nbformat": 4,
 "nbformat_minor": 4
}
