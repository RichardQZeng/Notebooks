{
 "cells": [
  {
   "cell_type": "code",
   "execution_count": null,
   "metadata": {},
   "outputs": [],
   "source": [
    "import json\n",
    "import pandas as pd\n",
    "import geopandas as gpd\n",
    "import altair as alt\n",
    "\n",
    "import vega_datasets\n",
    "from ast import literal_eval\n",
    "\n",
    "import numpy as np\n",
    "import folium\n",
    "from folium import Map, FeatureGroup, Marker, LayerControl\n",
    "from folium.plugins import MeasureControl\n",
    "import branca.colormap as cm\n",
    "\n",
    "from localtileserver import get_folium_tile_layer\n",
    "from localtileserver import TileClient"
   ]
  },
  {
   "cell_type": "code",
   "execution_count": null,
   "metadata": {},
   "outputs": [],
   "source": [
    "def array_eval(x):\n",
    "    array_str = ','.join(x.split())\n",
    "    array_str = array_str.replace('[,', '[')\n",
    "    array_str = array_str.replace('\\n', '')\n",
    "    return np.array(literal_eval(array_str))\n",
    "\n",
    "gdf = gpd.read_file(r\"C:\\BERATools\\Test-data\\footprint-fixed-avg.geojson\")\n",
    "#gdf = gpd.read_file(r\"C:\\BERATools\\Test-data\\original\\footprint_original_centerline.geojson\")   \n",
    "gdf['sampling_widths'] = gdf['sampling_widths'].apply(array_eval)"
   ]
  },
  {
   "cell_type": "code",
   "execution_count": null,
   "metadata": {},
   "outputs": [],
   "source": [
    "def add_histgram(widths):\n",
    "    width_max, width_min = max(widths), min(widths)\n",
    "    widths_pd = pd.DataFrame({'sampling_widths': widths})\n",
    "    width_max, width_min\n",
    "\n",
    "    hist = alt.Chart(widths_pd).mark_bar().encode(\n",
    "    alt.X(\"sampling_widths\", bin=alt.Bin(extent=[width_min, width_max], step=1.0)),\n",
    "    y='count()',\n",
    "    )\n",
    "\n",
    "    vega_lite = folium.VegaLite(\n",
    "        hist,\n",
    "        width=\"100%\",\n",
    "        height=\"100%\",\n",
    "    )\n",
    "\n",
    "    return vega_lite\n"
   ]
  },
  {
   "cell_type": "markdown",
   "metadata": {},
   "source": [
    "Prepare raster layers"
   ]
  },
  {
   "cell_type": "code",
   "execution_count": null,
   "metadata": {},
   "outputs": [],
   "source": [
    "# First, create a tile server from local raster file\n",
    "tile_client = TileClient(r\"C:\\BERATools\\Test-data\\CHM.tif\")\n",
    "t = get_folium_tile_layer(tile_client)\n",
    "t.control=True\n",
    "\n",
    "# Study sites\n",
    "# tile_4203 = TileClient(r\"C:\\BERATools\\Test-data\\rasters\\P1_4203_transparent_mosaic_Shifted.tif\")\n",
    "# t_4203 = get_folium_tile_layer(tile_4203)\n",
    "# t_4203.control=True\n",
    "\n",
    "# tile_4207 = TileClient(r\"C:\\BERATools\\Test-data\\rasters\\P1_4207_transparent_mosaic_Shifted.tif\")\n",
    "# t_4207 = get_folium_tile_layer(tile_4207)\n",
    "# t_4207.control=True\n",
    "\n",
    "# tile_4209 = TileClient(r\"C:\\BERATools\\Test-data\\rasters\\P1_4209_transparent_mosaic_Shifted.tif\")\n",
    "# t_4209 = get_folium_tile_layer(tile_4209)\n",
    "# t_4209.control=True"
   ]
  },
  {
   "cell_type": "code",
   "execution_count": null,
   "metadata": {},
   "outputs": [],
   "source": [
    "# Create two maps.\n",
    "m = folium.Map(\n",
    "    location=[56.201831,-110.672306],\n",
    "    zoom_start=14,\n",
    "    position=\"absolute\",\n",
    "    left=\"0%\"\n",
    ")\n",
    "\n",
    "colormap = cm.linear.Set1_09.scale(min(gdf.avg_width), max(gdf.avg_width)).to_step(10)\n",
    "colormap.caption = \"A colormap caption\"\n",
    "m.add_child(colormap)\n",
    "\n",
    "featuregrp_fixed_fp = FeatureGroup(name='Fixed widthe footprint')\n",
    "\n",
    "for index, row in gdf.iterrows(): \n",
    "    widths = row['sampling_widths']\n",
    "    polygon = folium.GeoJson(\n",
    "        row['geometry'],\n",
    "        style_function=lambda feature: {\n",
    "            \"fillColor\": colormap(row['avg_width']),\n",
    "            \"color\": \"blue\",\n",
    "            \"weight\": 1,},\n",
    "    )\n",
    "          \n",
    "    popup = folium.Popup()\n",
    "    vega_lite = add_histgram(widths)\n",
    "    vega_lite.add_to(popup)\n",
    "    popup.add_to(polygon)\n",
    "\n",
    "    tooltip = folium.Tooltip(row['avg_width'])\n",
    "    tooltip.add_to(polygon)\n",
    "\n",
    "    featuregrp_fixed_fp.add_child(polygon)\n",
    "    #polygon.add_to(m)"
   ]
  },
  {
   "cell_type": "code",
   "execution_count": null,
   "metadata": {},
   "outputs": [],
   "source": []
  },
  {
   "cell_type": "code",
   "execution_count": null,
   "metadata": {},
   "outputs": [],
   "source": [
    "m.add_child(t)\n",
    "# m.add_child(t_4203)\n",
    "# m.add_child(t_4207)\n",
    "# t_4209.add_to(m)\n",
    "\n",
    "featuregrp_fixed_fp.add_to(m)\n",
    "m.add_child(MeasureControl())\n",
    "folium.LayerControl().add_to(m)\n",
    "m"
   ]
  },
  {
   "cell_type": "code",
   "execution_count": null,
   "metadata": {},
   "outputs": [],
   "source": [
    "gdf.avg_width"
   ]
  },
  {
   "cell_type": "code",
   "execution_count": null,
   "metadata": {},
   "outputs": [],
   "source": []
  }
 ],
 "metadata": {
  "kernelspec": {
   "display_name": "bera39",
   "language": "python",
   "name": "python3"
  },
  "language_info": {
   "codemirror_mode": {
    "name": "ipython",
    "version": 3
   },
   "file_extension": ".py",
   "mimetype": "text/x-python",
   "name": "python",
   "nbconvert_exporter": "python",
   "pygments_lexer": "ipython3",
   "version": "3.10.14"
  }
 },
 "nbformat": 4,
 "nbformat_minor": 2
}
