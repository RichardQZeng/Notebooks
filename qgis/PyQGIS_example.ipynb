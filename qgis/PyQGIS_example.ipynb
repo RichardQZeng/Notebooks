{
 "cells": [
  {
   "cell_type": "code",
   "execution_count": 1,
   "metadata": {},
   "outputs": [],
   "source": [
    "from qgis.core import QgsApplication, QgsProject, QgsVectorLayer\n",
    "from qgis.gui import QgsLayerTreeMapCanvasBridge, QgsMapCanvas\n",
    "\n",
    "QgsApplication.setPrefixPath(r'C:\\OSGeo4W64\\apps\\qgis-ltr', True)\n",
    "qgs = QgsApplication([], False)\n",
    "qgs.initQgis()\n",
    "canvas = QgsMapCanvas()\n",
    "canvas.setWindowTitle('My_Map')\n",
    "project = QgsProject.instance()\n",
    "bridge = QgsLayerTreeMapCanvasBridge(project.layerTreeRoot(), canvas)\n",
    "vlayer = QgsVectorLayer(r\"C:\\BERATools\\Surmont_New_AOI\\centerlines.shp\", \"ogr\")\n",
    "if not vlayer.isValid():\n",
    "    print('Invalied')\n",
    "project.addMapLayer(vlayer)\n",
    "canvas.setExtent(vlayer.extent())\n",
    "canvas.setLayers([vlayer])\n",
    "canvas.show()\n",
    "qgs.exec_()\n",
    "a = input('Press 0 to finish\\n')\n",
    "if a == '0':\n",
    "    print('Done')\n",
    "qgs.exitQgis()"
   ]
  }
 ],
 "metadata": {
  "kernelspec": {
   "display_name": "data",
   "language": "python",
   "name": "python3"
  },
  "language_info": {
   "codemirror_mode": {
    "name": "ipython",
    "version": 3
   },
   "file_extension": ".py",
   "mimetype": "text/x-python",
   "name": "python",
   "nbconvert_exporter": "python",
   "pygments_lexer": "ipython3",
   "version": "3.11.8"
  }
 },
 "nbformat": 4,
 "nbformat_minor": 2
}
