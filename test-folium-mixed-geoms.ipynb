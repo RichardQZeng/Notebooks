{
 "cells": [
  {
   "cell_type": "code",
   "execution_count": null,
   "metadata": {},
   "outputs": [],
   "source": [
    "import geopandas as gpd\n",
    "import pandas as pd\n",
    "import folium\n",
    "from folium.plugins import MeasureControl\n",
    "import shapely\n",
    "from shapely.geometry import Point, LineString, Polygon, MultiPolygon, MultiPoint, MultiLineString\n",
    "from shapely.ops import split, snap, substring, nearest_points\n",
    "from shapely.affinity import scale, rotate\n",
    "import matplotlib.pyplot as plt\n",
    "import math\n",
    "\n",
    "import os\n",
    "import sys\n",
    "module_path = os.path.abspath(os.path.join('..'))\n",
    "if module_path not in sys.path:\n",
    "    sys.path.append(module_path)\n",
    "\n",
    "module_path = os.path.abspath(os.path.join(r'..\\BTools\\beratools\\tools'))\n",
    "if module_path not in sys.path:\n",
    "    sys.path.append(module_path)\n",
    "\n",
    "from BTools.beratools.tools.line_footprint_fixed import *\n",
    "\n",
    "\n",
    "from label_centerlines import get_centerline\n",
    "\n",
    "lcpath = gpd.read_file(r\"C:\\BERATools\\Surmont_New_AOI\\test_selected_lines\\centerlines_least_cost_path.shp\")\n",
    "cl = gpd.read_file(r\"C:\\BERATools\\Surmont_New_AOI\\test_selected_lines\\centerlines.shp\")\n",
    "poly = gpd.read_file(r\"C:\\BERATools\\Surmont_New_AOI\\test_selected_lines\\centerlines_corridor_poly.shp\")\n",
    "\n",
    "mapa = folium.Map([56.224917, -110.713430],\n",
    "    zoom_start=17,\n",
    "    tiles='cartodbpositron',\n",
    "    max_zoom=24)\n",
    "\n",
    "geoms = gpd.GeoDataFrame(geometry=[lcpath.geometry.iloc[0], cl.geometry.iloc[0], poly.geometry.iloc[0]], crs='EPSG:26912')\n",
    "geoms['color'] = ['#E0DB4D', '#288519', '#553a70']\n",
    "gjson = geoms.to_crs(epsg='4326').to_json()\n",
    "# geoms.plot(color=geoms['color'])\n",
    "\n",
    "folium.GeoJson(\n",
    "    gjson,\n",
    "    style_function=lambda feature: {\n",
    "        \"fillColor\": feature[\"properties\"][\"color\"],\n",
    "        \"color\": feature[\"properties\"][\"color\"],\n",
    "        \"weight\": 2,\n",
    "        \"dashArray\": \"0, 0\",\n",
    "    },\n",
    ").add_to(mapa)"
   ]
  },
  {
   "cell_type": "code",
   "execution_count": null,
   "metadata": {},
   "outputs": [],
   "source": [
    "lcp = lcpath.geometry.iloc[0]\n",
    "line_1 = substring(lcp, start_dist=0.0, end_dist=lcp.length/2)\n",
    "line_2 = substring(lcp, start_dist=lcp.length/2, end_dist=lcp.length)\n",
    "list(line_1.coords)[-1], list(line_2.coords)[0]"
   ]
  },
  {
   "cell_type": "code",
   "execution_count": null,
   "metadata": {},
   "outputs": [],
   "source": [
    "pts =  shapely.force_2d([Point(list(lcp.coords)[0]), Point(list(line_1.coords)[-1]), Point(list(lcp.coords)[-1])])\n",
    "pts"
   ]
  },
  {
   "cell_type": "code",
   "execution_count": null,
   "metadata": {},
   "outputs": [],
   "source": [
    "#pt_perp = Point(list(line_1.coords)[-1])\n",
    "perp = generate_perpendicular_line_precise(pts)\n",
    "perp"
   ]
  },
  {
   "cell_type": "code",
   "execution_count": null,
   "metadata": {},
   "outputs": [],
   "source": [
    "poly_exterior = Polygon(poly.geometry.iloc[0].buffer(1e-3).exterior)\n",
    "poly_split = split(poly_exterior, perp)\n",
    "poly_1 = poly_split.geoms[0]\n",
    "poly_2 = poly_split.geoms[1]\n",
    "poly_1"
   ]
  },
  {
   "cell_type": "code",
   "execution_count": null,
   "metadata": {},
   "outputs": [],
   "source": [
    "poly_2"
   ]
  },
  {
   "cell_type": "code",
   "execution_count": null,
   "metadata": {},
   "outputs": [],
   "source": [
    "print(poly_2.intersection(line_1).length, line_1.length)"
   ]
  },
  {
   "cell_type": "code",
   "execution_count": null,
   "metadata": {},
   "outputs": [],
   "source": [
    "center_line_1 = find_centerline(poly_2, line_1)\n",
    "center_line_1"
   ]
  },
  {
   "cell_type": "code",
   "execution_count": null,
   "metadata": {},
   "outputs": [],
   "source": [
    "center_line_2 = find_centerline(poly_1, line_2)\n",
    "center_line_2"
   ]
  },
  {
   "cell_type": "code",
   "execution_count": null,
   "metadata": {},
   "outputs": [],
   "source": [
    "center_line_1.coords[0], center_line_1.coords[-1], line_1.coords[0], line_1.coords[-1]"
   ]
  },
  {
   "cell_type": "code",
   "execution_count": null,
   "metadata": {},
   "outputs": [],
   "source": [
    "list(lcp.coords)[0], list(lcp.coords)[-1]"
   ]
  },
  {
   "cell_type": "code",
   "execution_count": null,
   "metadata": {},
   "outputs": [],
   "source": [
    "geoms_cl = gpd.GeoDataFrame(geometry=[center_line_1, center_line_2], crs='EPSG:26912')\n",
    "geoms_cl['color'] = ['#5E31DE', '#E70C4F']\n",
    "gjson_cl = geoms_cl.to_crs(epsg='4326').to_json()\n",
    "\n",
    "folium.GeoJson(\n",
    "    gjson_cl,\n",
    "    style_function=lambda feature: {\n",
    "        \"fillColor\": feature[\"properties\"][\"color\"],\n",
    "        \"color\": feature[\"properties\"][\"color\"],\n",
    "        \"weight\": 2,\n",
    "        \"dashArray\": \"0, 0\",\n",
    "    },\n",
    ").add_to(mapa)"
   ]
  },
  {
   "cell_type": "code",
   "execution_count": null,
   "metadata": {},
   "outputs": [],
   "source": [
    "from pyproj import Transformer\n",
    "transformer = Transformer.from_crs(26912, 4326, always_xy=True)\n",
    "center = shapely.force_2d(transform(transformer.transform, Point(list(line_1.coords)[-1])))\n",
    "print(center)"
   ]
  },
  {
   "cell_type": "code",
   "execution_count": null,
   "metadata": {},
   "outputs": [],
   "source": [
    "folium.Marker(location=[center.y, center.x], popup='center').add_to(mapa)"
   ]
  },
  {
   "cell_type": "code",
   "execution_count": null,
   "metadata": {},
   "outputs": [],
   "source": [
    "mapa.add_child(MeasureControl())\n",
    "mapa"
   ]
  },
  {
   "cell_type": "code",
   "execution_count": null,
   "metadata": {},
   "outputs": [],
   "source": [
    "mapa.save(r'D:\\Temp\\test.html')"
   ]
  }
 ],
 "metadata": {
  "kernelspec": {
   "display_name": "bera",
   "language": "python",
   "name": "python3"
  },
  "language_info": {
   "codemirror_mode": {
    "name": "ipython",
    "version": 3
   },
   "file_extension": ".py",
   "mimetype": "text/x-python",
   "name": "python",
   "nbconvert_exporter": "python",
   "pygments_lexer": "ipython3",
   "version": "3.10.14"
  }
 },
 "nbformat": 4,
 "nbformat_minor": 2
}
