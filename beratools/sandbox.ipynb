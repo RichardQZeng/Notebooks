{
 "cells": [
  {
   "cell_type": "code",
   "execution_count": null,
   "metadata": {},
   "outputs": [],
   "source": [
    "import geopandas as gpd"
   ]
  },
  {
   "cell_type": "code",
   "execution_count": null,
   "metadata": {},
   "outputs": [],
   "source": [
    "in_file = r\"I:\\Temp\\centerline_grouped_merged_final.shp\"\n",
    "left_file = r\"I:\\Temp\\centerline_grouped_merged_final_left.shp\"\n",
    "right_file = r\"I:\\Temp\\centerline_grouped_merged_final_right.shp\""
   ]
  },
  {
   "cell_type": "code",
   "execution_count": null,
   "metadata": {},
   "outputs": [],
   "source": [
    "in_gpd = gpd.read_file(in_file)\n",
    "in_gpd.head(2)"
   ]
  },
  {
   "cell_type": "code",
   "execution_count": null,
   "metadata": {},
   "outputs": [],
   "source": [
    "left = in_gpd.geometry.copy()\n",
    "right = in_gpd.geometry.copy()"
   ]
  },
  {
   "cell_type": "code",
   "execution_count": null,
   "metadata": {},
   "outputs": [],
   "source": [
    "in_gpd.geometry = left.offset_curve(10)\n",
    "in_gpd.to_file(left_file)\n",
    "\n",
    "in_gpd.geometry = right.offset_curve(-10)\n",
    "in_gpd.to_file(right_file)"
   ]
  },
  {
   "cell_type": "markdown",
   "metadata": {},
   "source": [
    "### Check footprint for MultiPolygon"
   ]
  },
  {
   "cell_type": "code",
   "execution_count": null,
   "metadata": {},
   "outputs": [],
   "source": [
    "test = r\"I:\\Temp\\footprint_ground_clean.shp\"\n",
    "gpd_test = gpd.read_file(test)\n",
    "gpd_test.head(1)\n",
    "for i in gpd_test.geometry:\n",
    "    if i.geom_type == \"MultiPolygon\":\n",
    "        print(i)\n",
    "out = gpd_test[gpd_test.geometry.geom_type == \"MultiPolygon\"]\n",
    "out\n",
    "out.to_file(\"I:/temp/multipoly.shp\")\n"
   ]
  }
 ],
 "metadata": {
  "kernelspec": {
   "display_name": "data",
   "language": "python",
   "name": "python3"
  },
  "language_info": {
   "codemirror_mode": {
    "name": "ipython",
    "version": 3
   },
   "file_extension": ".py",
   "mimetype": "text/x-python",
   "name": "python",
   "nbconvert_exporter": "python",
   "pygments_lexer": "ipython3",
   "version": "3.12.7"
  }
 },
 "nbformat": 4,
 "nbformat_minor": 2
}
