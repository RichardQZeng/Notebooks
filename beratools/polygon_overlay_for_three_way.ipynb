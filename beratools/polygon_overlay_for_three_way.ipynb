{
 "cells": [
  {
   "cell_type": "markdown",
   "id": "d88a364059a8160",
   "metadata": {},
   "source": [
    "### Code to cut overlaps of three way polygon overlap"
   ]
  },
  {
   "cell_type": "code",
   "execution_count": null,
   "id": "291e69aba15de514",
   "metadata": {},
   "outputs": [],
   "source": [
    "import json\n",
    "from shapely.ops import shape\n",
    "from shapely.geometry import MultiPolygon, Polygon"
   ]
  },
  {
   "cell_type": "code",
   "execution_count": null,
   "id": "32c32ec08bf271d0",
   "metadata": {},
   "outputs": [],
   "source": [
    "in_file = r'I:\\Temp\\temp.geojson'\n",
    "features = json.load(open(in_file))"
   ]
  },
  {
   "cell_type": "code",
   "execution_count": null,
   "metadata": {},
   "outputs": [],
   "source": [
    "c1 = shape(features['features'][0]['geometry'])\n",
    "c2 = shape(features['features'][1]['geometry'])"
   ]
  },
  {
   "cell_type": "code",
   "execution_count": null,
   "metadata": {},
   "outputs": [],
   "source": [
    "d1 = c1.difference(c2)"
   ]
  },
  {
   "cell_type": "code",
   "execution_count": null,
   "metadata": {},
   "outputs": [],
   "source": [
    "d"
   ]
  },
  {
   "cell_type": "code",
   "execution_count": null,
   "metadata": {},
   "outputs": [],
   "source": [
    "d2 = c2.difference(c1)\n",
    "d2"
   ]
  },
  {
   "cell_type": "code",
   "execution_count": null,
   "metadata": {},
   "outputs": [],
   "source": []
  }
 ],
 "metadata": {
  "kernelspec": {
   "display_name": "data",
   "language": "python",
   "name": "python3"
  },
  "language_info": {
   "codemirror_mode": {
    "name": "ipython",
    "version": 3
   },
   "file_extension": ".py",
   "mimetype": "text/x-python",
   "name": "python",
   "nbconvert_exporter": "python",
   "pygments_lexer": "ipython3",
   "version": "3.12.7"
  }
 },
 "nbformat": 4,
 "nbformat_minor": 2
}
