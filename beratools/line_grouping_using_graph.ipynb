{
 "cells": [
  {
   "cell_type": "markdown",
   "id": "4a15552a13ee054c",
   "metadata": {},
   "source": [
    "### Graph based line merging"
   ]
  },
  {
   "cell_type": "code",
   "execution_count": null,
   "id": "224eff323790482e",
   "metadata": {},
   "outputs": [],
   "source": [
    "import linegroupping as lg"
   ]
  },
  {
   "cell_type": "code",
   "execution_count": null,
   "id": "b69b0c166f2f8f93",
   "metadata": {},
   "outputs": [],
   "source": [
    "in_line = r\"I:\\Temp\\centerline.shp\"\n",
    "out_line_groupped = r\"I:\\Temp\\centerline_grouped.shp\"\n",
    "out_line_merged = r\"I:\\Temp\\centerline_merged.shp\"  # line trimmed and merged.\n",
    "\n",
    "in_poly = r\"I:\\Temp\\footprint_ground.shp\"\n",
    "out_poly = r\"I:\\Temp\\footprint_ground_clean.shp\"\n",
    "\n",
    "# in_line = r\"I:\\Temp\\centerline_S.shp\"\n",
    "# out_line = r\"I:\\Temp\\centerline_grouped_S.shp\"\n",
    "\n",
    "# in_poly = r\"I:\\Temp\\footprint_ground_S.shp\"\n",
    "# out_poly = r\"I:\\Temp\\footprint_ground_clean_S.shp\""
   ]
  },
  {
   "cell_type": "code",
   "execution_count": null,
   "id": "e0f641fe",
   "metadata": {},
   "outputs": [],
   "source": [
    "lg_obj = lg.LineGroupping(in_line, in_poly)\n",
    "lg_obj.run_groupping()\n",
    "#  save groupped lines\n",
    "lg_obj.data.to_file(out_line_groupped)\n",
    "\n",
    "# trim lines and polygons\n",
    "# merge lines and make sure no MultiLineString exist\n",
    "lg_obj.run_cleanup()\n",
    "lg_obj.run_line_merge()\n",
    "lg_obj.save_file(out_line_merged, out_poly)"
   ]
  }
 ],
 "metadata": {
  "kernelspec": {
   "display_name": "data",
   "language": "python",
   "name": "python3"
  },
  "language_info": {
   "codemirror_mode": {
    "name": "ipython",
    "version": 3
   },
   "file_extension": ".py",
   "mimetype": "text/x-python",
   "name": "python",
   "nbconvert_exporter": "python",
   "pygments_lexer": "ipython3",
   "version": "3.12.7"
  }
 },
 "nbformat": 5,
 "nbformat_minor": 9
}
