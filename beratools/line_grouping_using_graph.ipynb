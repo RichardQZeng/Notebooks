{
 "cells": [
  {
   "cell_type": "markdown",
   "id": "4a15552a13ee054c",
   "metadata": {},
   "source": [
    "### Graph based line merging"
   ]
  },
  {
   "metadata": {},
   "cell_type": "code",
   "outputs": [],
   "execution_count": null,
   "source": "import linegrouping as lg",
   "id": "6827327c5c1adb2d"
  },
  {
   "metadata": {},
   "cell_type": "code",
   "outputs": [],
   "execution_count": null,
   "source": [
    "in_line = r\"I:\\Temp\\centerline.shp\"\n",
    "out_line_grouped = r\"I:\\Temp\\centerline_grouped.shp\"\n",
    "out_line_merged = r\"I:\\Temp\\centerline_merged.shp\"  # line trimmed and merged.\n",
    "\n",
    "in_poly = r\"I:\\Temp\\footprint_ground.shp\"\n",
    "out_poly = r\"I:\\Temp\\footprint_ground_clean.shp\"\n",
    "\n",
    "# in_line = r\"I:\\Temp\\centerline_S.shp\"\n",
    "# out_line = r\"I:\\Temp\\centerline_grouped_S.shp\"\n",
    "\n",
    "# in_poly = r\"I:\\Temp\\footprint_ground_S.shp\"\n",
    "# out_poly = r\"I:\\Temp\\footprint_ground_clean_S.shp\""
   ],
   "id": "116e4f83a7df8de0"
  },
  {
   "metadata": {},
   "cell_type": "code",
   "outputs": [],
   "execution_count": null,
   "source": [
    "lg_obj = lg.LineGrouping(in_line, in_poly)\n",
    "lg_obj.run_grouping()\n",
    "#  save grouped lines\n",
    "lg_obj.data.to_file(out_line_grouped)\n",
    "\n",
    "# trim lines and polygons\n",
    "# merge lines and make sure no MultiLineString exist\n",
    "lg_obj.run_cleanup()\n",
    "lg_obj.run_line_merge()\n",
    "lg_obj.save_file(out_line_merged, out_poly)"
   ],
   "id": "fe417828188b10b6"
  }
 ],
 "metadata": {
  "kernelspec": {
   "display_name": "data",
   "language": "python",
   "name": "python3"
  },
  "language_info": {
   "codemirror_mode": {
    "name": "ipython",
    "version": 3
   },
   "file_extension": ".py",
   "mimetype": "text/x-python",
   "name": "python",
   "nbconvert_exporter": "python",
   "pygments_lexer": "ipython3",
   "version": "3.12.7"
  }
 },
 "nbformat": 5,
 "nbformat_minor": 9
}
