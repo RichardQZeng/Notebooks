{
 "cells": [
  {
   "cell_type": "markdown",
   "id": "4a15552a13ee054c",
   "metadata": {},
   "source": [
    "### Graph based line merging"
   ]
  },
  {
   "cell_type": "code",
   "execution_count": null,
   "id": "224eff323790482e",
   "metadata": {},
   "outputs": [],
   "source": [
    "import networkit as nk\n",
    "import geopandas as gpd\n",
    "import shapely\n",
    "import numpy as np\n",
    "from shapely.geometry import Point, LineString\n",
    "\n",
    "ANGLE_TOLERANCE = np.pi/10\n",
    "TURN_ANGLE_TOLERANCE = np.pi * 0.5  # (little bigger than right angle)"
   ]
  },
  {
   "cell_type": "code",
   "execution_count": null,
   "id": "b69b0c166f2f8f93",
   "metadata": {},
   "outputs": [],
   "source": [
    "# in_file = r\"I:\\BERATools\\Surmont_New_AOI\\Developement\\seed_lines_2022.shp\"\n",
    "# out_file = r\"I:\\BERATools\\Surmont_New_AOI\\Developement\\seed_lines_2022_grouped.shp\"\n",
    "\n",
    "in_file = r\"I:\\Temp\\centerline.shp\"\n",
    "out_file = r\"I:\\Temp\\centerline_grouuped.shp\"\n",
    "\n",
    "# in_file = r\"~/BERATools/Surmont_New_AOI/seed_lines_2022.shp\"\n",
    "# out_file = r\"~/BERATools/Surmont_New_AOI/seed_lines_2022_grouped.shp\"\n"
   ]
  },
  {
   "cell_type": "code",
   "execution_count": null,
   "id": "53fd57af904d264a",
   "metadata": {},
   "outputs": [],
   "source": [
    "data = gpd.read_file(in_file)\n",
    "data.head(5)\n"
   ]
  },
  {
   "cell_type": "code",
   "execution_count": null,
   "id": "1ae5400c541676d8",
   "metadata": {},
   "outputs": [],
   "source": [
    "### remove empty and null geometry\n",
    "data = data[~data.geometry.isna() & ~data.geometry.is_empty]\n",
    "data.geometry = data.simplify(10)\n",
    "data.head(2)\n"
   ]
  },
  {
   "cell_type": "code",
   "execution_count": null,
   "id": "799f6a509fd4d650",
   "metadata": {},
   "outputs": [],
   "source": [
    "line = data.iloc[[1]]\n",
    "line"
   ]
  },
  {
   "cell_type": "code",
   "execution_count": null,
   "id": "7852121a13df17eb",
   "metadata": {},
   "outputs": [],
   "source": [
    "sindex = data.sindex"
   ]
  },
  {
   "cell_type": "code",
   "execution_count": null,
   "id": "f81bc9626dd1a8f8",
   "metadata": {},
   "outputs": [],
   "source": [
    "G = nk.Graph(len(data))\n",
    "G.numberOfNodes()"
   ]
  },
  {
   "cell_type": "code",
   "execution_count": null,
   "id": "c87a6fd92a65e886",
   "metadata": {},
   "outputs": [],
   "source": [
    "def points_in_line(line):\n",
    "    point_list = []\n",
    "    try:\n",
    "        for point in list(line.coords):  # loops through every point in a line\n",
    "            # loops through every vertex of every segment\n",
    "            if point:  # adds all the vertices to segment_list, which creates an array\n",
    "                point_list.append(Point(point[0], point[1]))\n",
    "    except Exception as e:\n",
    "        print(e)\n",
    "\n",
    "    return point_list\n",
    "\n",
    "def get_angle(line, end_index):\n",
    "    \"\"\"\n",
    "    Calculate the angle of the first or last segment\n",
    "    line: LineString\n",
    "    end_index: 0 or -1 of the line vertices. Consider the multipart.\n",
    "    \"\"\"\n",
    "    pts = points_in_line(line)\n",
    "\n",
    "    if end_index == 0:\n",
    "        pt_1 = pts[0]\n",
    "        pt_2 = pts[1]\n",
    "    elif end_index == -1:\n",
    "        pt_1 = pts[-1]\n",
    "        pt_2 = pts[-2]\n",
    "\n",
    "    delta_x = pt_2.x - pt_1.x\n",
    "    delta_y = pt_2.y - pt_1.y\n",
    "    # if np.isclose(pt_1.x, pt_2.x):\n",
    "    #     angle = np.pi / 2\n",
    "    #     if delta_y > 0:\n",
    "    #         angle = np.pi / 2\n",
    "    #     elif delta_y < 0:\n",
    "    #         angle = -np.pi / 2\n",
    "    # else:\n",
    "    #     angle = np.arctan(delta_y / delta_x)\n",
    "    angle = np.arctan2(delta_y, delta_x)\n",
    "\n",
    "    # # arctan is in range [-pi/2, pi/2], regulate all angles to [[-pi/2, 3*pi/2]]\n",
    "    # if delta_x < 0:\n",
    "    #     angle += np.pi  # the second or fourth quadrant\n",
    "\n",
    "    return angle\n",
    "\n",
    "class VertexNode:\n",
    "    def __init__(self, line, vertex_index, id) -> None:\n",
    "        self.vertex = None\n",
    "        self.line_list = []  # list of dict {'line': line, 'index': 0 or -1, 'id': number}\n",
    "        self.line_connected = []  # pairs of lines connected\n",
    "\n",
    "        if line:\n",
    "            self.add_line(line, vertex_index, id)\n",
    "\n",
    "    def set_vertex(self, line, vertex_index):\n",
    "        self.vertex = shapely.force_2d(shapely.get_point(line, vertex_index))\n",
    "    \n",
    "    def add_line(self, line, vertex_index, id):\n",
    "        self.line_list.append({'line': line, 'index': vertex_index, 'id': id})\n",
    "        self.set_vertex(line, vertex_index)\n",
    "\n",
    "    def merge(self, vertex):\n",
    "        self.add_line(vertex.line_list[0]['line'], vertex.line_list[0]['index'], vertex.line_list[0]['id'])\n",
    "\n",
    "    def get_direction(line, vertex_index):\n",
    "        pass\n",
    "\n",
    "    # generate connectivity of all lines\n",
    "    def check_connectivity(self):\n",
    "        if len(self.line_list) == 1:\n",
    "            return\n",
    "\n",
    "        # if there are 3 and more lines\n",
    "        angles = [get_angle(i['line'], i['index']) for i in self.line_list]\n",
    "        angle_visited = [False]*len(angles)\n",
    "\n",
    "        if len(self.line_list) == 2:\n",
    "            angle_diff = abs(angles[0] - angles[1])\n",
    "            angle_diff = angle_diff if angle_diff <= np.pi else angle_diff-np.pi\n",
    "\n",
    "            #if angle_diff >= TURN_ANGLE_TOLERANCE:\n",
    "            self.line_connected.append((self.line_list[0]['id'], self.line_list[1]['id']))\n",
    "            return\n",
    "\n",
    "        for i, angle_1 in enumerate(angles):\n",
    "            for j, angle_2 in enumerate(angles[i+1:]):\n",
    "                if not angle_visited[i+j+1]:\n",
    "                    angle_diff = abs(angle_1 - angle_2)\n",
    "                    angle_diff = angle_diff if angle_diff <= np.pi else angle_diff-np.pi\n",
    "                    if angle_diff < ANGLE_TOLERANCE or np.pi-ANGLE_TOLERANCE < abs(angle_1-angle_2) < np.pi+ANGLE_TOLERANCE:\n",
    "                        angle_visited[j+i+1] = True  # tenth of PI\n",
    "                        self.line_connected.append((self.line_list[i]['id'], self.line_list[i+j+1]['id']))\n"
   ]
  },
  {
   "cell_type": "code",
   "execution_count": null,
   "id": "8edeb0247d0ecbf8",
   "metadata": {},
   "outputs": [],
   "source": [
    "vertex_list = []\n",
    "for i, geom in enumerate(data.geometry):\n",
    "    vertex_list.append(VertexNode(geom, 0, i))\n",
    "    vertex_list.append(VertexNode(geom, -1, i))"
   ]
  },
  {
   "cell_type": "code",
   "execution_count": null,
   "id": "7f92e60739099aec",
   "metadata": {},
   "outputs": [],
   "source": [
    "len(vertex_list)"
   ]
  },
  {
   "cell_type": "markdown",
   "id": "6894c17771bce3bd",
   "metadata": {},
   "source": [
    "### merge vertices"
   ]
  },
  {
   "cell_type": "code",
   "execution_count": null,
   "id": "7d73d1fc67c050cb",
   "metadata": {},
   "outputs": [],
   "source": [
    "v_points = []\n",
    "for i in vertex_list:\n",
    "    v_points.append(i.vertex.buffer(1))  # small polygon around vertices"
   ]
  },
  {
   "cell_type": "code",
   "execution_count": null,
   "id": "a997e67037b8531e",
   "metadata": {},
   "outputs": [],
   "source": [
    "v_index = shapely.STRtree(v_points)\n",
    "merged_vertex_list = []\n",
    "vertex_visited = [False]*len(vertex_list)\n",
    "\n",
    "for i, pt in enumerate(v_points):\n",
    "    if vertex_visited[i]:\n",
    "        continue\n",
    "\n",
    "    s_list = v_index.query(pt)\n",
    "\n",
    "    vertex = vertex_list[i]\n",
    "    if len(s_list) > 1:\n",
    "        for j in s_list:\n",
    "            if j != i:\n",
    "                vertex.merge(vertex_list[j])\n",
    "                vertex_visited[j] = True\n",
    "\n",
    "    merged_vertex_list.append(vertex)\n",
    "    vertex_visited[i] = True"
   ]
  },
  {
   "cell_type": "code",
   "execution_count": null,
   "id": "8a9f400bc51d6056",
   "metadata": {},
   "outputs": [],
   "source": [
    "len(merged_vertex_list)"
   ]
  },
  {
   "cell_type": "code",
   "execution_count": null,
   "id": "3ac7d480f94ba30f",
   "metadata": {},
   "outputs": [],
   "source": [
    "for i in merged_vertex_list:\n",
    "    i.check_connectivity()"
   ]
  },
  {
   "cell_type": "code",
   "execution_count": null,
   "id": "1c5768c5de700aa0",
   "metadata": {},
   "outputs": [],
   "source": [
    "sum = 0\n",
    "for i in merged_vertex_list:\n",
    "    if i.line_connected:\n",
    "        # print(i.line_connected)\n",
    "        for edge in i.line_connected:\n",
    "            G.addEdge(edge[0], edge[1])"
   ]
  },
  {
   "cell_type": "code",
   "execution_count": null,
   "id": "300209390b48e0dd",
   "metadata": {},
   "outputs": [],
   "source": [
    "G.numberOfEdges()"
   ]
  },
  {
   "cell_type": "code",
   "execution_count": null,
   "id": "b8f7c80f5f33ba34",
   "metadata": {},
   "outputs": [],
   "source": [
    "cc = nk.components.ConnectedComponents(G)\n",
    "cc.run()"
   ]
  },
  {
   "cell_type": "code",
   "execution_count": null,
   "id": "510c01b4b79330b8",
   "metadata": {},
   "outputs": [],
   "source": [
    "print(\"number of components \", cc.numberOfComponents())"
   ]
  },
  {
   "cell_type": "code",
   "execution_count": null,
   "id": "557002d38202668a",
   "metadata": {},
   "outputs": [],
   "source": [
    "groups = [0]*G.numberOfNodes()\n",
    "group = 0\n",
    "for i in range(cc.numberOfComponents()):\n",
    "    component = cc.getComponents()[i]\n",
    "    for id in component:\n",
    "        groups[id] = group\n",
    "\n",
    "    group += 1\n",
    "        \n",
    "    # print(group)"
   ]
  },
  {
   "cell_type": "code",
   "execution_count": null,
   "id": "b519308949d4813",
   "metadata": {},
   "outputs": [],
   "source": [
    "print(groups)"
   ]
  },
  {
   "cell_type": "code",
   "execution_count": null,
   "id": "62d25683dfd8570d",
   "metadata": {},
   "outputs": [],
   "source": [
    "data['group'] = groups"
   ]
  },
  {
   "cell_type": "code",
   "execution_count": null,
   "id": "d6f9b75f5a662ac8",
   "metadata": {},
   "outputs": [],
   "source": [
    "data.tail(3)"
   ]
  },
  {
   "cell_type": "code",
   "execution_count": null,
   "id": "ce5e72cee46574b9",
   "metadata": {},
   "outputs": [],
   "source": [
    "data.to_file(out_file)"
   ]
  },
  {
   "cell_type": "code",
   "execution_count": null,
   "id": "de3462ef",
   "metadata": {},
   "outputs": [],
   "source": []
  }
 ],
 "metadata": {
  "kernelspec": {
   "display_name": "data",
   "language": "python",
   "name": "python3"
  },
  "language_info": {
   "codemirror_mode": {
    "name": "ipython",
    "version": 3
   },
   "file_extension": ".py",
   "mimetype": "text/x-python",
   "name": "python",
   "nbconvert_exporter": "python",
   "pygments_lexer": "ipython3",
   "version": "3.12.7"
  }
 },
 "nbformat": 5,
 "nbformat_minor": 9
}
