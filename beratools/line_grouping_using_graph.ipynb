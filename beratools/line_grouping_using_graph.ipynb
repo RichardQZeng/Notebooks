{
 "cells": [
  {
   "cell_type": "markdown",
   "id": "4a15552a13ee054c",
   "metadata": {},
   "source": [
    "### Graph based line merging"
   ]
  },
  {
   "cell_type": "code",
   "execution_count": null,
   "id": "224eff323790482e",
   "metadata": {},
   "outputs": [],
   "source": [
    "import geopandas as gpd\n",
    "from shapely.geometry import MultiPolygon\n",
    "import linegroupping as lg"
   ]
  },
  {
   "cell_type": "code",
   "execution_count": null,
   "id": "b69b0c166f2f8f93",
   "metadata": {},
   "outputs": [],
   "source": [
    "in_file = r\"I:\\Temp\\centerline.shp\"\n",
    "out_file = r\"I:\\Temp\\centerline_grouped.shp\"\n",
    "\n",
    "in_poly_file = r\"I:\\Temp\\footprint_ground.shp\"\n",
    "out_poly_file = r\"I:\\Temp\\footprint_ground_clean.shp\"\n",
    "\n",
    "# in_file = r\"I:\\Temp\\centerline_S.shp\"\n",
    "# out_file = r\"I:\\Temp\\centerline_grouped_S.shp\"\n",
    "\n",
    "# in_poly_file = r\"I:\\Temp\\footprint_ground_S.shp\"\n",
    "# out_poly_file = r\"I:\\Temp\\footprint_ground_clean_S.shp\""
   ]
  },
  {
   "cell_type": "code",
   "execution_count": null,
   "id": "53fd57af904d264a",
   "metadata": {},
   "outputs": [],
   "source": [
    "data = gpd.read_file(in_file)\n",
    "data = data[~data.geometry.isna() & ~data.geometry.is_empty]\n",
    "data.reset_index(inplace=True, drop=True)"
   ]
  },
  {
   "cell_type": "code",
   "execution_count": null,
   "id": "e0f641fe",
   "metadata": {},
   "outputs": [],
   "source": [
    "lg_obj = lg.LineGroupping(data)"
   ]
  },
  {
   "cell_type": "code",
   "execution_count": null,
   "id": "a4013bcb",
   "metadata": {},
   "outputs": [],
   "source": [
    "\n",
    "data[\"group\"] = lg_obj.groups  # skip if has group attribute"
   ]
  },
  {
   "cell_type": "markdown",
   "id": "1fbbde37",
   "metadata": {},
   "source": [
    "1. save original lines with group attributes for checkinng and editing\n",
    "2. dissolve and generate footprint"
   ]
  },
  {
   "cell_type": "markdown",
   "id": "e3a719b0",
   "metadata": {},
   "source": [
    "### clip polygon and line\n",
    "**line_merge and own merge tool runs after line clipped**"
   ]
  },
  {
   "cell_type": "code",
   "execution_count": null,
   "id": "250aab00",
   "metadata": {},
   "outputs": [],
   "source": [
    "in_poly = gpd.read_file(in_poly_file)\n",
    "\n",
    "sindex_poly = in_poly.sindex\n",
    "for i in lg_obj.vertex_of_concern:\n",
    "    polys = []\n",
    "    primary_lines = []\n",
    "    cleanup_lines = []\n",
    "\n",
    "    # retrieve primary lines\n",
    "    for j in i.line_connected[0]:  # only one connected line is available\n",
    "        primary_lines.append(i.get_line(j))\n",
    "\n",
    "    for j in i.line_not_connected:  # only one connected line is available\n",
    "        cleanup_lines.append({'idx_line': j, 'line': i.get_line(j)})\n",
    "\n",
    "    idx = sindex_poly.query(i.vertex, predicate=\"within\")\n",
    "    if len(idx) == 0:\n",
    "        continue\n",
    "\n",
    "    polys = in_poly.loc[idx].geometry\n",
    "    poly_cleanup = []\n",
    "    poly_primary = []\n",
    "    for i, p in polys.items():\n",
    "        if p.contains(primary_lines[0]) or p.contains(primary_lines[1]):\n",
    "            poly_primary.append(p)\n",
    "        else:\n",
    "            for line in cleanup_lines:\n",
    "                if p.contains(line['line']):\n",
    "                    line.update({'idx_poly': i, 'poly': p})\n",
    "                    poly_cleanup.append(line)\n",
    "\n",
    "    poly_primary = MultiPolygon(poly_primary)\n",
    "    poly_cleanup = lg.cleanup_poly_and_line(poly_cleanup, poly_primary)\n",
    "    # TODO: update all same lines inn VertexNode\n",
    "    \n",
    "    for p in poly_cleanup:\n",
    "        print(p['idx_poly'], p['idx_line'])\n",
    "        in_poly.at[p['idx_poly'], 'geometry'] = p['poly']\n",
    "        data.at[p['idx_line'], 'geometry'] = p['line']"
   ]
  },
  {
   "cell_type": "code",
   "execution_count": null,
   "id": "be4ff7da",
   "metadata": {},
   "outputs": [],
   "source": [
    "in_poly.to_file(out_poly_file)\n",
    "data.to_file(out_file)"
   ]
  }
 ],
 "metadata": {
  "kernelspec": {
   "display_name": "data",
   "language": "python",
   "name": "python3"
  },
  "language_info": {
   "codemirror_mode": {
    "name": "ipython",
    "version": 3
   },
   "file_extension": ".py",
   "mimetype": "text/x-python",
   "name": "python",
   "nbconvert_exporter": "python",
   "pygments_lexer": "ipython3",
   "version": "3.12.7"
  }
 },
 "nbformat": 5,
 "nbformat_minor": 9
}
