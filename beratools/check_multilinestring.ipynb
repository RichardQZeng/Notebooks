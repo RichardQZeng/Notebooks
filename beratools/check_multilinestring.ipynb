{
 "cells": [
  {
   "cell_type": "code",
   "execution_count": null,
   "id": "291e69aba15de514",
   "metadata": {},
   "outputs": [],
   "source": [
    "from shapely.ops import shape\n",
    "from shapely.geometry import MultiPolygon, Polygon\n",
    "import geopandas as gpd"
   ]
  },
  {
   "cell_type": "code",
   "execution_count": null,
   "id": "32c32ec08bf271d0",
   "metadata": {},
   "outputs": [],
   "source": [
    "in_1 = r\"I:\\Temp\\centerline_grouped_merged_final.shp\"\n",
    "out_1 = r\"I:\\Temp\\centerline_grouped_merged_multi.shp\""
   ]
  },
  {
   "cell_type": "code",
   "execution_count": null,
   "metadata": {},
   "outputs": [],
   "source": [
    "a = gpd.read_file(in_1)"
   ]
  },
  {
   "cell_type": "code",
   "execution_count": null,
   "metadata": {},
   "outputs": [],
   "source": [
    "idx = []\n",
    "for i, g in a.geometry.items():\n",
    "    if g.geom_type == 'MultiLineString':\n",
    "        idx.append(i)\n",
    "\n",
    "print(f'Total MultiLineString: {len(idx)}: {idx}')"
   ]
  },
  {
   "cell_type": "code",
   "execution_count": null,
   "metadata": {},
   "outputs": [],
   "source": [
    "idx_used = list(set(a.index) - set(idx))\n",
    "idx_unused = idx\n",
    "len(idx_unused)"
   ]
  },
  {
   "cell_type": "code",
   "execution_count": null,
   "metadata": {},
   "outputs": [],
   "source": [
    "a = a.loc[idx_unused]\n",
    "a.shape[0]"
   ]
  },
  {
   "cell_type": "code",
   "execution_count": null,
   "metadata": {},
   "outputs": [],
   "source": [
    "\n",
    "a.to_file(out_1)"
   ]
  },
  {
   "cell_type": "code",
   "execution_count": null,
   "metadata": {},
   "outputs": [],
   "source": []
  }
 ],
 "metadata": {
  "kernelspec": {
   "display_name": "data",
   "language": "python",
   "name": "python3"
  },
  "language_info": {
   "codemirror_mode": {
    "name": "ipython",
    "version": 3
   },
   "file_extension": ".py",
   "mimetype": "text/x-python",
   "name": "python",
   "nbconvert_exporter": "python",
   "pygments_lexer": "ipython3",
   "version": "3.12.7"
  }
 },
 "nbformat": 4,
 "nbformat_minor": 2
}
