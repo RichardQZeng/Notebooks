{
 "cells": [
  {
   "cell_type": "markdown",
   "metadata": {},
   "source": [
    "### Graph based line merging"
   ]
  },
  {
   "cell_type": "code",
   "execution_count": null,
   "metadata": {},
   "outputs": [],
   "source": [
    "import networkit as nk\n",
    "import geopandas as gpd\n",
    "import shapely\n",
    "import numpy as np\n",
    "from shapely.geometry import Point, LineString\n",
    "\n",
    "ANGLE_TOLERANCE = np.pi/10"
   ]
  },
  {
   "cell_type": "code",
   "execution_count": null,
   "metadata": {},
   "outputs": [],
   "source": [
    "file_name = r\"I:\\BERATools\\Surmont_New_AOI\\Developement\\centerline.shp\""
   ]
  },
  {
   "cell_type": "code",
   "execution_count": null,
   "metadata": {},
   "outputs": [],
   "source": [
    "data = gpd.read_file(file_name)\n",
    "data.head(3)"
   ]
  },
  {
   "cell_type": "code",
   "execution_count": null,
   "metadata": {},
   "outputs": [],
   "source": [
    "line = data.iloc[[1]]\n",
    "type(line)"
   ]
  },
  {
   "cell_type": "code",
   "execution_count": null,
   "metadata": {},
   "outputs": [],
   "source": [
    "sindex = data.sindex"
   ]
  },
  {
   "cell_type": "code",
   "execution_count": null,
   "metadata": {},
   "outputs": [],
   "source": [
    "G = nk.Graph(len(data))\n",
    "G.numberOfNodes()"
   ]
  },
  {
   "cell_type": "code",
   "execution_count": null,
   "metadata": {},
   "outputs": [],
   "source": [
    "def points_in_line(line):\n",
    "    point_list = []\n",
    "    try:\n",
    "        for point in list(line.coords):  # loops through every point in a line\n",
    "            # loops through every vertex of every segment\n",
    "            if point:  # adds all the vertices to segment_list, which creates an array\n",
    "                point_list.append(Point(point[0], point[1]))\n",
    "    except Exception as e:\n",
    "        print(e)\n",
    "\n",
    "    return point_list\n",
    "\n",
    "def get_angle(line, end_index):\n",
    "    \"\"\"\n",
    "    Calculate the angle of the first or last segment\n",
    "    line: LineString\n",
    "    end_index: 0 or -1 of the line vertices. Consider the multipart.\n",
    "    \"\"\"\n",
    "    pts = points_in_line(line)\n",
    "\n",
    "    if end_index == 0:\n",
    "        pt_1 = pts[0]\n",
    "        pt_2 = pts[1]\n",
    "    elif end_index == -1:\n",
    "        pt_1 = pts[-1]\n",
    "        pt_2 = pts[-2]\n",
    "\n",
    "    delta_x = pt_2.x - pt_1.x\n",
    "    delta_y = pt_2.y - pt_1.y\n",
    "    if np.isclose(pt_1.x, pt_2.x):\n",
    "        angle = np.pi / 2\n",
    "        if delta_y > 0:\n",
    "            angle = np.pi / 2\n",
    "        elif delta_y < 0:\n",
    "            angle = -np.pi / 2\n",
    "    else:\n",
    "        angle = np.arctan(delta_y / delta_x)\n",
    "\n",
    "        # arctan is in range [-pi/2, pi/2], regulate all angles to [[-pi/2, 3*pi/2]]\n",
    "        if delta_x < 0:\n",
    "            angle += np.pi  # the second or fourth quadrant\n",
    "\n",
    "    return angle\n",
    "\n",
    "class VertexNode:\n",
    "    def __init__(self, line, vertex_index, id) -> None:\n",
    "        self.vertex = None\n",
    "        self.line_list = []  # list of dict {'line': line, 'index': 0 or -1, 'id': number}\n",
    "        self.line_connected = []  # pairs of lines connected\n",
    "\n",
    "        if line:\n",
    "            self.add_line(line, vertex_index, id)\n",
    "\n",
    "    def set_vertex(self, line, vertex_index):\n",
    "        self.vertex = shapely.force_2d(shapely.get_point(line, vertex_index))\n",
    "    \n",
    "    def add_line(self, line, vertex_index, id):\n",
    "        self.line_list.append({'line': line, 'index': vertex_index, 'id': id})\n",
    "        self.set_vertex(line, vertex_index)\n",
    "\n",
    "    def merge(self, vertex):\n",
    "        self.add_line(vertex.line_list[0]['line'], vertex.line_list[0]['index'], vertex.line_list[0]['id'])\n",
    "\n",
    "    def get_direction(line, vertex_index):\n",
    "        pass\n",
    "\n",
    "    # generate connectivity of all lines\n",
    "    def check_connectivity(self):\n",
    "        angles = [get_angle(i['line'], i['index']) for i in self.line_list]\n",
    "        angle_visited = [False]*len(angles)\n",
    "\n",
    "        for i, angle_1 in enumerate(angles):\n",
    "            for j, angle_2 in enumerate(angles[i+1:]):\n",
    "                if j and not angle_visited[i+j+1]:\n",
    "                    if abs(angle_1-angle_2) < ANGLE_TOLERANCE or np.pi-ANGLE_TOLERANCE < abs(angle_1-angle_2) < np.pi+ANGLE_TOLERANCE: \n",
    "                        angle_visited[j+i+1] = True  # tenth of PI\n",
    "                        self.line_connected.append((self.line_list[i]['id'], self.line_list[i+j+1]['id']))\n"
   ]
  },
  {
   "cell_type": "code",
   "execution_count": null,
   "metadata": {},
   "outputs": [],
   "source": [
    "vertex_list = []\n",
    "for i, geom in enumerate(data.geometry):\n",
    "    vertex_list.append(VertexNode(geom, 0, i))\n",
    "    vertex_list.append(VertexNode(geom, -1, i))"
   ]
  },
  {
   "cell_type": "code",
   "execution_count": null,
   "metadata": {},
   "outputs": [],
   "source": [
    "len(vertex_list)"
   ]
  },
  {
   "cell_type": "markdown",
   "metadata": {},
   "source": [
    "### merge vertices"
   ]
  },
  {
   "cell_type": "code",
   "execution_count": null,
   "metadata": {},
   "outputs": [],
   "source": [
    "v_points = []\n",
    "for i in vertex_list:\n",
    "    # print(i.vertex)\n",
    "    v_points.append(i.vertex.buffer(1))  # small polygon around vertices"
   ]
  },
  {
   "cell_type": "code",
   "execution_count": null,
   "metadata": {},
   "outputs": [],
   "source": [
    "v_index = shapely.STRtree(v_points)\n",
    "merged_vertex_list = []\n",
    "vertex_visited = [False]*len(vertex_list)\n",
    "\n",
    "for i, pt in enumerate(v_points):\n",
    "    if vertex_visited[i]:\n",
    "        continue\n",
    "\n",
    "    s_list = v_index.query(pt)\n",
    "\n",
    "    vertex = vertex_list[i]\n",
    "    if len(s_list) > 1:\n",
    "        for j in s_list:\n",
    "            if j != i:\n",
    "                vertex.merge(vertex_list[j])\n",
    "                vertex_visited[j] = True\n",
    "\n",
    "    merged_vertex_list.append(vertex)\n",
    "    vertex_visited[i] = True"
   ]
  },
  {
   "cell_type": "code",
   "execution_count": null,
   "metadata": {},
   "outputs": [],
   "source": [
    "len(merged_vertex_list)"
   ]
  },
  {
   "cell_type": "code",
   "execution_count": null,
   "metadata": {},
   "outputs": [],
   "source": [
    "for i in merged_vertex_list:\n",
    "    i.check_connectivity()"
   ]
  },
  {
   "cell_type": "code",
   "execution_count": null,
   "metadata": {},
   "outputs": [],
   "source": [
    "sum = 0\n",
    "for i in merged_vertex_list:\n",
    "    print(i.line_connected)"
   ]
  },
  {
   "cell_type": "code",
   "execution_count": null,
   "metadata": {},
   "outputs": [],
   "source": []
  }
 ],
 "metadata": {
  "kernelspec": {
   "display_name": "data",
   "language": "python",
   "name": "python3"
  },
  "language_info": {
   "codemirror_mode": {
    "name": "ipython",
    "version": 3
   },
   "file_extension": ".py",
   "mimetype": "text/x-python",
   "name": "python",
   "nbconvert_exporter": "python",
   "pygments_lexer": "ipython3",
   "version": "3.12.7"
  }
 },
 "nbformat": 4,
 "nbformat_minor": 2
}
