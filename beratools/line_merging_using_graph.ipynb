{
 "cells": [
  {
   "cell_type": "markdown",
   "id": "4a15552a13ee054c",
   "metadata": {},
   "source": [
    "### Graph based line merging"
   ]
  },
  {
   "cell_type": "code",
   "id": "224eff323790482e",
   "metadata": {},
   "source": [
    "import networkit as nk\n",
    "import geopandas as gpd\n",
    "import shapely\n",
    "import numpy as np\n",
    "from shapely.geometry import Point, LineString\n",
    "\n",
    "ANGLE_TOLERANCE = np.pi/10\n",
    "TURN_ANGLE_TOLERANCE = np.pi * 0.5  # (little bigger than right angle)"
   ],
   "outputs": [],
   "execution_count": null
  },
  {
   "cell_type": "code",
   "id": "b69b0c166f2f8f93",
   "metadata": {},
   "source": [
    "in_file = r\"I:\\BERATools\\Surmont_New_AOI\\Developement\\seed_lines_2022.shp\"\n",
    "out_file = r\"I:\\BERATools\\Surmont_New_AOI\\Developement\\seed_lines_2022_grouped.shp\"\n",
    "\n",
    "# in_file = r\"~/BERATools/Surmont_New_AOI/seed_lines_2022.shp\"\n",
    "# out_file = r\"~/BERATools/Surmont_New_AOI/seed_lines_2022_grouped.shp\"\n"
   ],
   "outputs": [],
   "execution_count": null
  },
  {
   "cell_type": "code",
   "id": "53fd57af904d264a",
   "metadata": {},
   "source": [
    "data = gpd.read_file(in_file)\n",
    "data.head(5)\n"
   ],
   "outputs": [],
   "execution_count": null
  },
  {
   "cell_type": "code",
   "id": "1ae5400c541676d8",
   "metadata": {},
   "source": [
    "### remove empty and null geometry\n",
    "data = data[~data.geometry.isna() & ~data.geometry.is_empty]"
   ],
   "outputs": [],
   "execution_count": null
  },
  {
   "cell_type": "code",
   "id": "799f6a509fd4d650",
   "metadata": {},
   "source": [
    "line = data.iloc[[1]]\n",
    "type(line)"
   ],
   "outputs": [],
   "execution_count": null
  },
  {
   "cell_type": "code",
   "id": "7852121a13df17eb",
   "metadata": {},
   "source": [
    "sindex = data.sindex"
   ],
   "outputs": [],
   "execution_count": null
  },
  {
   "cell_type": "code",
   "id": "f81bc9626dd1a8f8",
   "metadata": {},
   "source": [
    "G = nk.Graph(len(data))\n",
    "G.numberOfNodes()"
   ],
   "outputs": [],
   "execution_count": null
  },
  {
   "cell_type": "code",
   "id": "c87a6fd92a65e886",
   "metadata": {},
   "source": [
    "def points_in_line(line):\n",
    "    point_list = []\n",
    "    try:\n",
    "        for point in list(line.coords):  # loops through every point in a line\n",
    "            # loops through every vertex of every segment\n",
    "            if point:  # adds all the vertices to segment_list, which creates an array\n",
    "                point_list.append(Point(point[0], point[1]))\n",
    "    except Exception as e:\n",
    "        print(e)\n",
    "\n",
    "    return point_list\n",
    "\n",
    "def get_angle(line, end_index):\n",
    "    \"\"\"\n",
    "    Calculate the angle of the first or last segment\n",
    "    line: LineString\n",
    "    end_index: 0 or -1 of the line vertices. Consider the multipart.\n",
    "    \"\"\"\n",
    "    pts = points_in_line(line)\n",
    "\n",
    "    if end_index == 0:\n",
    "        pt_1 = pts[0]\n",
    "        pt_2 = pts[1]\n",
    "    elif end_index == -1:\n",
    "        pt_1 = pts[-1]\n",
    "        pt_2 = pts[-2]\n",
    "\n",
    "    delta_x = pt_2.x - pt_1.x\n",
    "    delta_y = pt_2.y - pt_1.y\n",
    "    # if np.isclose(pt_1.x, pt_2.x):\n",
    "    #     angle = np.pi / 2\n",
    "    #     if delta_y > 0:\n",
    "    #         angle = np.pi / 2\n",
    "    #     elif delta_y < 0:\n",
    "    #         angle = -np.pi / 2\n",
    "    # else:\n",
    "    #     angle = np.arctan(delta_y / delta_x)\n",
    "    angle = np.arctan2(delta_y, delta_x)\n",
    "\n",
    "    # # arctan is in range [-pi/2, pi/2], regulate all angles to [[-pi/2, 3*pi/2]]\n",
    "    # if delta_x < 0:\n",
    "    #     angle += np.pi  # the second or fourth quadrant\n",
    "\n",
    "    return angle\n",
    "\n",
    "class VertexNode:\n",
    "    def __init__(self, line, vertex_index, id) -> None:\n",
    "        self.vertex = None\n",
    "        self.line_list = []  # list of dict {'line': line, 'index': 0 or -1, 'id': number}\n",
    "        self.line_connected = []  # pairs of lines connected\n",
    "\n",
    "        if line:\n",
    "            self.add_line(line, vertex_index, id)\n",
    "\n",
    "    def set_vertex(self, line, vertex_index):\n",
    "        self.vertex = shapely.force_2d(shapely.get_point(line, vertex_index))\n",
    "    \n",
    "    def add_line(self, line, vertex_index, id):\n",
    "        self.line_list.append({'line': line, 'index': vertex_index, 'id': id})\n",
    "        self.set_vertex(line, vertex_index)\n",
    "\n",
    "    def merge(self, vertex):\n",
    "        self.add_line(vertex.line_list[0]['line'], vertex.line_list[0]['index'], vertex.line_list[0]['id'])\n",
    "\n",
    "    def get_direction(line, vertex_index):\n",
    "        pass\n",
    "\n",
    "    # generate connectivity of all lines\n",
    "    def check_connectivity(self):\n",
    "        if len(self.line_list) == 1:\n",
    "            return\n",
    "\n",
    "        # if there are 3 and more lines\n",
    "        angles = [get_angle(i['line'], i['index']) for i in self.line_list]\n",
    "        angle_visited = [False]*len(angles)\n",
    "\n",
    "        if len(self.line_list) == 2:\n",
    "            angle_diff = abs(angles[0] - angles[1])\n",
    "            angle_diff = angle_diff if angle_diff <= np.pi else angle_diff-np.pi\n",
    "\n",
    "            #if angle_diff >= TURN_ANGLE_TOLERANCE:\n",
    "            self.line_connected.append((self.line_list[0]['id'], self.line_list[1]['id']))\n",
    "            return\n",
    "\n",
    "        for i, angle_1 in enumerate(angles):\n",
    "            for j, angle_2 in enumerate(angles[i+1:]):\n",
    "                if not angle_visited[i+j+1]:\n",
    "                    angle_diff = abs(angle_1 - angle_2)\n",
    "                    angle_diff = angle_diff if angle_diff <= np.pi else angle_diff-np.pi\n",
    "                    if angle_diff < ANGLE_TOLERANCE or np.pi-ANGLE_TOLERANCE < abs(angle_1-angle_2) < np.pi+ANGLE_TOLERANCE:\n",
    "                        angle_visited[j+i+1] = True  # tenth of PI\n",
    "                        self.line_connected.append((self.line_list[i]['id'], self.line_list[i+j+1]['id']))\n"
   ],
   "outputs": [],
   "execution_count": null
  },
  {
   "cell_type": "code",
   "id": "8edeb0247d0ecbf8",
   "metadata": {},
   "source": [
    "vertex_list = []\n",
    "for i, geom in enumerate(data.geometry):\n",
    "    vertex_list.append(VertexNode(geom, 0, i))\n",
    "    vertex_list.append(VertexNode(geom, -1, i))"
   ],
   "outputs": [],
   "execution_count": null
  },
  {
   "cell_type": "code",
   "id": "7f92e60739099aec",
   "metadata": {},
   "source": [
    "len(vertex_list)"
   ],
   "outputs": [],
   "execution_count": null
  },
  {
   "cell_type": "markdown",
   "id": "6894c17771bce3bd",
   "metadata": {},
   "source": [
    "### merge vertices"
   ]
  },
  {
   "cell_type": "code",
   "id": "7d73d1fc67c050cb",
   "metadata": {},
   "source": [
    "v_points = []\n",
    "for i in vertex_list:\n",
    "    v_points.append(i.vertex.buffer(1))  # small polygon around vertices"
   ],
   "outputs": [],
   "execution_count": null
  },
  {
   "cell_type": "code",
   "id": "a997e67037b8531e",
   "metadata": {},
   "source": [
    "v_index = shapely.STRtree(v_points)\n",
    "merged_vertex_list = []\n",
    "vertex_visited = [False]*len(vertex_list)\n",
    "\n",
    "for i, pt in enumerate(v_points):\n",
    "    if vertex_visited[i]:\n",
    "        continue\n",
    "\n",
    "    s_list = v_index.query(pt)\n",
    "\n",
    "    vertex = vertex_list[i]\n",
    "    if len(s_list) > 1:\n",
    "        for j in s_list:\n",
    "            if j != i:\n",
    "                vertex.merge(vertex_list[j])\n",
    "                vertex_visited[j] = True\n",
    "\n",
    "    merged_vertex_list.append(vertex)\n",
    "    vertex_visited[i] = True"
   ],
   "outputs": [],
   "execution_count": null
  },
  {
   "cell_type": "code",
   "id": "8a9f400bc51d6056",
   "metadata": {},
   "source": [
    "len(merged_vertex_list)"
   ],
   "outputs": [],
   "execution_count": null
  },
  {
   "cell_type": "code",
   "id": "3ac7d480f94ba30f",
   "metadata": {},
   "source": [
    "for i in merged_vertex_list:\n",
    "    i.check_connectivity()"
   ],
   "outputs": [],
   "execution_count": null
  },
  {
   "cell_type": "code",
   "id": "1c5768c5de700aa0",
   "metadata": {},
   "source": [
    "sum = 0\n",
    "for i in merged_vertex_list:\n",
    "    if i.line_connected:\n",
    "        # print(i.line_connected)\n",
    "        for edge in i.line_connected:\n",
    "            G.addEdge(edge[0], edge[1])"
   ],
   "outputs": [],
   "execution_count": null
  },
  {
   "cell_type": "code",
   "id": "300209390b48e0dd",
   "metadata": {},
   "source": [
    "G.numberOfEdges()"
   ],
   "outputs": [],
   "execution_count": null
  },
  {
   "cell_type": "code",
   "id": "b8f7c80f5f33ba34",
   "metadata": {},
   "source": [
    "cc = nk.components.ConnectedComponents(G)\n",
    "cc.run()"
   ],
   "outputs": [],
   "execution_count": null
  },
  {
   "cell_type": "code",
   "id": "510c01b4b79330b8",
   "metadata": {},
   "source": [
    "print(\"number of components \", cc.numberOfComponents())"
   ],
   "outputs": [],
   "execution_count": null
  },
  {
   "cell_type": "code",
   "id": "557002d38202668a",
   "metadata": {},
   "source": [
    "groups = [0]*G.numberOfNodes()\n",
    "group = 0\n",
    "for i in range(cc.numberOfComponents()):\n",
    "    component = cc.getComponents()[i]\n",
    "    for id in component:\n",
    "        groups[id] = group\n",
    "\n",
    "    group += 1\n",
    "        \n",
    "    # print(group)"
   ],
   "outputs": [],
   "execution_count": null
  },
  {
   "cell_type": "code",
   "id": "b519308949d4813",
   "metadata": {},
   "source": [
    "print(groups)"
   ],
   "outputs": [],
   "execution_count": null
  },
  {
   "cell_type": "code",
   "id": "62d25683dfd8570d",
   "metadata": {},
   "source": [
    "data['group'] = groups"
   ],
   "outputs": [],
   "execution_count": null
  },
  {
   "cell_type": "code",
   "id": "d6f9b75f5a662ac8",
   "metadata": {},
   "source": [
    "data.tail(3)"
   ],
   "outputs": [],
   "execution_count": null
  },
  {
   "cell_type": "code",
   "id": "ce5e72cee46574b9",
   "metadata": {},
   "source": [
    "data.to_file(out_file)"
   ],
   "outputs": [],
   "execution_count": null
  }
 ],
 "metadata": {
  "kernelspec": {
   "display_name": "Python 3 (ipykernel)",
   "language": "python",
   "name": "python3"
  },
  "language_info": {
   "codemirror_mode": {
    "name": "ipython",
    "version": 3
   },
   "file_extension": ".py",
   "mimetype": "text/x-python",
   "name": "python",
   "nbconvert_exporter": "python",
   "pygments_lexer": "ipython3",
   "version": "3.11.9"
  }
 },
 "nbformat": 5,
 "nbformat_minor": 9
}
