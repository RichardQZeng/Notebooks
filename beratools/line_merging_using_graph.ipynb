{
 "cells": [
  {
   "cell_type": "code",
   "execution_count": 10,
   "metadata": {},
   "outputs": [],
   "source": [
    "import geopandas as gpd\n",
    "from mergelines import MergeLines"
   ]
  },
  {
   "cell_type": "code",
   "execution_count": 11,
   "metadata": {},
   "outputs": [],
   "source": [
    "in_file = r\"I:\\Temp\\centerline_grouped_merged.shp\"\n",
    "# in_file = r\"I:\\Temp\\selected.shp\"\n",
    "out_file = r\"I:\\Temp\\centerline_grouped_merged_final.shp\""
   ]
  },
  {
   "cell_type": "code",
   "execution_count": 12,
   "metadata": {},
   "outputs": [
    {
     "name": "stdout",
     "output_type": "stream",
     "text": [
      "[0, 1, 3, 2]\n",
      "[0, 1, 3, 2]\n",
      "[2, 0, 1]\n",
      "[2, 0, 1]\n",
      "[2, 0, 1]\n",
      "[2, 0, 1]\n",
      "[0, 1, 2, 3]\n",
      "[0, 1, 2, 3]\n",
      "[0, 1, 2]\n",
      "[0, 1, 2]\n",
      "[0, 1, 2]\n",
      "[0, 1, 2]\n",
      "[2, 0, 1]\n",
      "[2, 0, 1]\n",
      "[0, 1, 2]\n",
      "[0, 1, 2]\n",
      "[2, 0, 1]\n",
      "[2, 0, 1]\n",
      "[0, 1, 2, 3, 4]\n",
      "[0, 1, 2, 3, 4]\n",
      "[0, 1, 4, 3, 2]\n",
      "[0, 1, 4, 3, 2]\n",
      "[0, 1, 2]\n",
      "[0, 1, 2]\n",
      "[2, 0, 1]\n",
      "[2, 0, 1]\n",
      "[0, 1, 2, 3, 4, 5]\n",
      "[0, 1, 2, 3, 4, 5]\n",
      "[3, 2, 0, 1]\n",
      "[3, 2, 0, 1]\n",
      "[0, 1, 2, 3, 4]\n",
      "[0, 1, 2, 3, 4]\n",
      "[0, 1, 2]\n",
      "[0, 1, 2]\n",
      "[0, 1, 2]\n",
      "[0, 1, 2]\n",
      "[2, 0, 1]\n",
      "[2, 0, 1]\n",
      "[2, 0, 1]\n",
      "[2, 0, 1]\n",
      "[0, 1, 2]\n",
      "[0, 1, 2]\n",
      "[2, 3, 4, 0, 1]\n",
      "[2, 3, 4, 0, 1]\n",
      "[0, 1, 2]\n",
      "[0, 1, 2]\n",
      "[0, 1, 2]\n",
      "[0, 1, 2]\n",
      "[0, 1, 2]\n",
      "[0, 1, 2]\n",
      "[2, 0, 1]\n",
      "[2, 0, 1]\n",
      "[0, 1, 2, 3, 4]\n",
      "[0, 1, 2, 3, 4]\n",
      "[2, 0, 1]\n",
      "[2, 0, 1]\n",
      "[0, 1, 2]\n",
      "[0, 1, 2]\n"
     ]
    }
   ],
   "source": [
    "in_gpd = gpd.read_file(in_file)\n",
    "worker = None\n",
    "num = 0\n",
    "for i in in_gpd.itertuples():\n",
    "    num += 1\n",
    "    if i.geometry.geom_type == 'MultiLineString':\n",
    "        worker = MergeLines(i.geometry)\n",
    "        merged_line = worker.merge_all_lines()\n",
    "        if merged_line:\n",
    "            in_gpd.at[i.Index, 'geometry'] = merged_line"
   ]
  },
  {
   "cell_type": "code",
   "execution_count": 13,
   "metadata": {},
   "outputs": [],
   "source": [
    "in_gpd.to_file(out_file)"
   ]
  },
  {
   "cell_type": "markdown",
   "metadata": {},
   "source": [
    "### Simple example"
   ]
  },
  {
   "cell_type": "code",
   "execution_count": null,
   "metadata": {},
   "outputs": [],
   "source": [
    "from shapely.ops import shape\n",
    "from networkit import vizbridges\n",
    "a = MAPPING OF GEOM\n",
    "multi_line = shape(a)\n",
    "multi_line"
   ]
  },
  {
   "cell_type": "code",
   "execution_count": null,
   "metadata": {},
   "outputs": [],
   "source": [
    "\n",
    "worker = MergeLines(multi_line)\n",
    "merged_line = worker.merge_all_lines()\n",
    "\n",
    "vizbridges.widgetFromGraph(worker.G)"
   ]
  }
 ],
 "metadata": {
  "kernelspec": {
   "display_name": "data",
   "language": "python",
   "name": "python3"
  },
  "language_info": {
   "codemirror_mode": {
    "name": "ipython",
    "version": 3
   },
   "file_extension": ".py",
   "mimetype": "text/x-python",
   "name": "python",
   "nbconvert_exporter": "python",
   "pygments_lexer": "ipython3",
   "version": "3.12.7"
  }
 },
 "nbformat": 4,
 "nbformat_minor": 2
}
