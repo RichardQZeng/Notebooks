{
 "cells": [
  {
   "cell_type": "code",
   "execution_count": null,
   "metadata": {},
   "outputs": [],
   "source": [
    "import rasterio\n",
    "from rasterio.enums import Resampling\n",
    "\n",
    "in_image = r\"C:\\BERATools\\Surmont_New_AOI\\Merged_CHM_2022.tif\"\n",
    "out_image = r\"C:\\BERATools\\Surmont_New_AOI\\1m_down_sample\\Merged_CHM_2022.tif\"\n",
    "\n",
    "scale_factor = 0.3\n",
    "\n",
    "with rasterio.open(in_image) as dataset:\n",
    "\n",
    "    # resample data to target shape using scale_factor\n",
    "    data = dataset.read(\n",
    "        out_shape=(\n",
    "            dataset.count,\n",
    "            int(dataset.height * scale_factor),\n",
    "            int(dataset.width * scale_factor)\n",
    "        ),\n",
    "        resampling=Resampling.bilinear\n",
    "    )\n",
    "\n",
    "    dst_crs = dataset.crs\n",
    "\n",
    "    print('Shape before resample:', dataset.shape)\n",
    "    print('Shape after resample:', data.shape[1:])\n",
    "\n",
    "    # scale image transform\n",
    "    dst_transform = dataset.transform * dataset.transform.scale(\n",
    "        (dataset.width / data.shape[-1]),\n",
    "        (dataset.height / data.shape[-2])\n",
    "    )\n",
    "\n",
    "    print('Transform before resample:\\n', dataset.transform, '\\n')\n",
    "    print('Transform after resample:\\n', dst_transform)\n",
    "\n",
    "    ## Write outputs\n",
    "    # set properties for output\n",
    "    dst_kwargs = dataset.meta.copy()\n",
    "    dst_kwargs.update(\n",
    "        {\n",
    "            \"crs\": dst_crs,\n",
    "            \"transform\": dst_transform,\n",
    "            \"width\": data.shape[-1],\n",
    "            \"height\": data.shape[-2],\n",
    "            \"nodata\": 0,  \n",
    "        }\n",
    "    )\n",
    "\n",
    "    with rasterio.open(out_image, \"w\", **dst_kwargs) as dst:\n",
    "        # iterate through bands\n",
    "        for i in range(data.shape[0]):\n",
    "              dst.write(data[i].astype(rasterio.uint32), i+1)"
   ]
  }
 ],
 "metadata": {
  "kernelspec": {
   "display_name": "data",
   "language": "python",
   "name": "python3"
  },
  "language_info": {
   "codemirror_mode": {
    "name": "ipython",
    "version": 3
   },
   "file_extension": ".py",
   "mimetype": "text/x-python",
   "name": "python",
   "nbconvert_exporter": "python",
   "pygments_lexer": "ipython3",
   "version": "3.11.8"
  }
 },
 "nbformat": 4,
 "nbformat_minor": 2
}
