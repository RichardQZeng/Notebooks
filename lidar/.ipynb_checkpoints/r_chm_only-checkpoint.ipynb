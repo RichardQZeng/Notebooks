{
 "cells": [
  {
   "cell_type": "code",
   "id": "222db1d1-a00a-47c7-9c8d-620f3a5a710d",
   "metadata": {
    "jupyter": {
     "is_executing": true
    }
   },
   "source": [
    "library(terra)\n",
    "library(sf)\n",
    "library(raster)\n",
    "library(tmap)\n",
    "library(tmaptools)\n",
    "library(lidR)\n",
    "library(RStoolbox)\n",
    "library(future)\n"
   ],
   "outputs": [],
   "execution_count": null
  },
  {
   "cell_type": "markdown",
   "id": "e210b2e9-8a90-42f2-aa20-9bf1ce2a1fe0",
   "metadata": {},
   "source": [
    "***LiDAR***"
   ]
  },
  {
   "cell_type": "code",
   "id": "2375a503-de45-4d22-a6f8-4860097f3993",
   "metadata": {
    "ExecuteTime": {
     "end_time": "2024-06-30T04:54:30.921382Z",
     "start_time": "2024-06-30T04:54:30.921382Z"
    }
   },
   "source": [
    "las_cat <- catalog(\"I:\\\\LiDea II and South\\\\las_files\")  # Use catalog instead of readLAScatalog\n",
    "# projection(las_cat) <- \"+proj=utm +zone=17 +ellps=GRS80 +datum=NAD83 +units=m +no_defs \"\n",
    "summary(las_cat)\n",
    "las_check(las_cat)"
   ],
   "outputs": [],
   "execution_count": null
  },
  {
   "cell_type": "markdown",
   "id": "88b5ef0c7c97954f",
   "metadata": {},
   "source": [
    "***Creating a DTM***"
   ]
  },
  {
   "cell_type": "code",
   "id": "6ef917c08ba9d2f0",
   "metadata": {},
   "source": [
    "opt_chunk_size(las_cat) <- 500\n",
    "# plot(las_cat, chunk_pattern = TRUE)\n",
    "opt_chunk_buffer(las_cat) <- 20\n",
    "plot(las_cat, chunk_pattern = TRUE)\n",
    "summary(las_cat)\n",
    "las_cat@output_options$drivers$Raster$param$overwrite <- TRUE  # overwrite rasters"
   ],
   "outputs": [],
   "execution_count": null
  },
  {
   "cell_type": "code",
   "id": "52cdf008b500eaa2",
   "metadata": {},
   "source": [
    "opt_output_files(las_cat) <- \"I:\\\\LiDea II and South\\\\las_files\\\\dtm/dtm_{XLEFT}_{YBOTTOM}\"\n",
    "dtm <- grid_terrain(las_cat, res = 2, knnidw(k = 10, p = 2), keep_lowest = FALSE)"
   ],
   "outputs": [],
   "execution_count": null
  },
  {
   "cell_type": "markdown",
   "id": "ee9a65873bf90e71",
   "metadata": {},
   "source": [
    "***Plot DTM***"
   ]
  },
  {
   "cell_type": "code",
   "id": "d6d48aa973e2715e",
   "metadata": {},
   "source": [
    "tm_shape(dtm) +\n",
    "  tm_raster(style= \"quantile\", palette=get_brewer_pal(\"Greys\", plot=FALSE)) +\n",
    "  tm_layout(legend.outside = TRUE)"
   ],
   "outputs": [],
   "execution_count": null
  },
  {
   "cell_type": "markdown",
   "id": "891b172d4bf787ad",
   "metadata": {},
   "source": [
    "***Creating CHM***"
   ]
  },
  {
   "cell_type": "code",
   "id": "9e137b7f29614939",
   "metadata": {},
   "source": [
    "opt_output_files(las_cat) <- \"I:\\\\LiDea II and South\\\\las_files/norm/norm_{XLEFT}_{YBOTTOM}\"\n",
    "lasnorm <- normalize_height(las_cat, dtm)\n",
    "opt_output_files(las_cat) <- \"I:\\\\LiDea II and South\\\\las_files/chm/chm_{XLEFT}_{YBOTTOM}\"\n",
    "dsm <- grid_canopy(lasnorm, res = 2, pitfree(c(0,2,5,10,15), c(0, 1)))"
   ],
   "outputs": [],
   "execution_count": null
  }
 ],
 "metadata": {
  "kernelspec": {
   "display_name": "R",
   "language": "R",
   "name": "ir"
  },
  "language_info": {
   "codemirror_mode": {
    "name": "ipython",
    "version": 3
   },
   "file_extension": ".py",
   "mimetype": "text/x-python",
   "name": "python",
   "nbconvert_exporter": "python",
   "pygments_lexer": "ipython3",
   "version": "3.11.9"
  }
 },
 "nbformat": 4,
 "nbformat_minor": 5
}
