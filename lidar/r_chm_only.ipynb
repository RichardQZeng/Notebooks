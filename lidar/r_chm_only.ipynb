{
 "cells": [
  {
   "cell_type": "code",
   "execution_count": 1,
   "id": "222db1d1-a00a-47c7-9c8d-620f3a5a710d",
   "metadata": {
    "jupyter": {
     "is_executing": true
    }
   },
   "outputs": [
    {
     "name": "stderr",
     "output_type": "stream",
     "text": [
      "terra 1.5.21\n",
      "\n",
      "Linking to GEOS 3.9.1, GDAL 3.2.1, PROJ 7.2.1; sf_use_s2() is TRUE\n",
      "\n",
      "Loading required package: sp\n",
      "\n",
      "\n",
      "Attaching package: 'lidR'\n",
      "\n",
      "\n",
      "The following objects are masked from 'package:raster':\n",
      "\n",
      "    area, crs, crs<-, projection, projection<-, wkt\n",
      "\n",
      "\n",
      "The following object is masked from 'package:sp':\n",
      "\n",
      "    wkt\n",
      "\n",
      "\n",
      "The following objects are masked from 'package:terra':\n",
      "\n",
      "    area, crs, crs<-\n",
      "\n",
      "\n"
     ]
    }
   ],
   "source": [
    "library(terra)\n",
    "library(sf)\n",
    "library(raster)\n",
    "library(tmap)\n",
    "library(tmaptools)\n",
    "library(lidR)\n",
    "library(RStoolbox)\n",
    "library(future)\n"
   ]
  },
  {
   "cell_type": "markdown",
   "id": "e210b2e9-8a90-42f2-aa20-9bf1ce2a1fe0",
   "metadata": {},
   "source": [
    "***LiDAR***"
   ]
  },
  {
   "cell_type": "code",
   "execution_count": 2,
   "id": "2375a503-de45-4d22-a6f8-4860097f3993",
   "metadata": {
    "ExecuteTime": {
     "end_time": "2024-06-30T04:54:30.921382Z",
     "start_time": "2024-06-30T04:54:30.921382Z"
    }
   },
   "outputs": [
    {
     "name": "stdout",
     "output_type": "stream",
     "text": [
      "class       : LAScatalog (v1.0 format 1)\n",
      "extent      : 338000, 339500, 5238000, 5239500 (xmin, xmax, ymin, ymax)\n",
      "coord. ref. : WGS 84 / UTM zone 19N \n",
      "area        : 2.25 km²\n",
      "points      : 9.45 million points\n",
      "density     : 4.2 points/m²\n",
      "density     : 3.4 pulses/m²\n",
      "num. files  : 9 \n",
      "proc. opt.  : buffer: 30 | chunk: 0\n",
      "input opt.  : select: * | filter: \n",
      "output opt. : in memory | w2w guaranteed | merging enabled\n",
      "drivers     :\n",
      " - Raster : format = GTiff  NAflag = -999999  \n",
      " - stars : NA_value = -999999  \n",
      " - SpatRaster : overwrite = FALSE  NAflag = -999999  \n",
      " - SpatVector : overwrite = FALSE  \n",
      " - LAS : no parameter\n",
      " - Spatial : overwrite = FALSE  \n",
      " - sf : quiet = TRUE  \n",
      " - data.frame : no parameter\n",
      "\n",
      " Checking headers consistency\n",
      "  - Checking file version consistency... <U+2713>\n",
      "  - Checking scale consistency... <U+2713>\n",
      "  - Checking offset consistency... <U+2713>\n",
      "  - Checking point type consistency... <U+2713>\n",
      "  - Checking VLR consistency... <U+2713>\n",
      "  - Checking CRS consistency... <U+2713>\n",
      " Checking the headers\n",
      "  - Checking scale factor validity... <U+2713>\n",
      "  - Checking Point Data Format ID validity... <U+2713>\n",
      " Checking preprocessing already done \n",
      "  - Checking negative outliers... <U+2713>\n",
      "  - Checking normalization... no\n",
      " Checking the geometry\n",
      "  - Checking overlapping tiles... <U+2713>\n",
      "  - Checking point indexation... yes"
     ]
    }
   ],
   "source": [
    "las_cat <- catalog(\"I:\\\\LiDea II and South\\\\las_files\")  # Use catalog instead of readLAScatalog\n",
    "# projection(las_cat) <- \"+proj=utm +zone=17 +ellps=GRS80 +datum=NAD83 +units=m +no_defs \"\n",
    "summary(las_cat)\n",
    "las_check(las_cat)"
   ]
  },
  {
   "cell_type": "markdown",
   "id": "88b5ef0c7c97954f",
   "metadata": {},
   "source": [
    "***Creating a DTM***"
   ]
  },
  {
   "cell_type": "code",
   "execution_count": 3,
   "id": "6ef917c08ba9d2f0",
   "metadata": {},
   "outputs": [
    {
     "name": "stdout",
     "output_type": "stream",
     "text": [
      "class       : LAScatalog (v1.0 format 1)\n",
      "extent      : 338000, 339500, 5238000, 5239500 (xmin, xmax, ymin, ymax)\n",
      "coord. ref. : WGS 84 / UTM zone 19N \n",
      "area        : 2.25 km²\n",
      "points      : 9.45 million points\n",
      "density     : 4.2 points/m²\n",
      "density     : 3.4 pulses/m²\n",
      "num. files  : 9 \n",
      "proc. opt.  : buffer: 20 | chunk: 500\n",
      "input opt.  : select: * | filter: \n",
      "output opt. : in memory | w2w guaranteed | merging enabled\n",
      "drivers     :\n",
      " - Raster : format = GTiff  NAflag = -999999  \n",
      " - stars : NA_value = -999999  \n",
      " - SpatRaster : overwrite = FALSE  NAflag = -999999  \n",
      " - SpatVector : overwrite = FALSE  \n",
      " - LAS : no parameter\n",
      " - Spatial : overwrite = FALSE  \n",
      " - sf : quiet = TRUE  \n",
      " - data.frame : no parameter\n"
     ]
    },
    {
     "data": {
      "image/png": "[encoded data removed]",
      "text/plain": [
       "Plot with title \"Pattern of chunks\""
      ]
     },
     "metadata": {
      "image/png": {
       "height": 420,
       "width": 420
      }
     },
     "output_type": "display_data"
    }
   ],
   "source": [
    "opt_chunk_size(las_cat) <- 500\n",
    "# plot(las_cat, chunk_pattern = TRUE)\n",
    "opt_chunk_buffer(las_cat) <- 20\n",
    "plot(las_cat, chunk_pattern = TRUE)\n",
    "summary(las_cat)\n",
    "las_cat@output_options$drivers$Raster$param$overwrite <- TRUE  # overwrite rasters"
   ]
  },
  {
   "cell_type": "code",
   "execution_count": 4,
   "id": "52cdf008b500eaa2",
   "metadata": {},
   "outputs": [],
   "source": [
    "opt_output_files(las_cat) <- \"I:\\\\LiDea II and South\\\\las_files\\\\dtm/dtm_{XLEFT}_{YBOTTOM}\"\n",
    "dtm <- grid_terrain(las_cat, res = 2, knnidw(k = 10, p = 2), keep_lowest = FALSE)"
   ]
  },
  {
   "cell_type": "markdown",
   "id": "ee9a65873bf90e71",
   "metadata": {},
   "source": [
    "***Plot DTM***"
   ]
  },
  {
   "cell_type": "code",
   "execution_count": 5,
   "id": "d6d48aa973e2715e",
   "metadata": {},
   "outputs": [
    {
     "name": "stderr",
     "output_type": "stream",
     "text": [
      "stars_proxy object shown at 750 by 750 cells.\n",
      "\n"
     ]
    },
    {
     "data": {
      "image/png": "[encoded data removed]",
      "text/plain": [
       "plot without title"
      ]
     },
     "metadata": {
      "image/png": {
       "height": 420,
       "width": 420
      }
     },
     "output_type": "display_data"
    }
   ],
   "source": [
    "tm_shape(dtm) +\n",
    "  tm_raster(style= \"quantile\", palette=get_brewer_pal(\"Greys\", plot=FALSE)) +\n",
    "  tm_layout(legend.outside = TRUE)"
   ]
  },
  {
   "cell_type": "markdown",
   "id": "891b172d4bf787ad",
   "metadata": {},
   "source": [
    "***Creating CHM***"
   ]
  },
  {
   "cell_type": "code",
   "execution_count": 6,
   "id": "9e137b7f29614939",
   "metadata": {},
   "outputs": [],
   "source": [
    "opt_output_files(las_cat) <- \"I:\\\\LiDea II and South\\\\las_files/norm/norm_{XLEFT}_{YBOTTOM}\"\n",
    "lasnorm <- normalize_height(las_cat, dtm)"
   ]
  },
  {
   "cell_type": "code",
   "execution_count": 7,
   "id": "d5d388b2-c821-49f4-9d9f-6d618f9c3f28",
   "metadata": {},
   "outputs": [],
   "source": [
    "opt_output_files(lasnorm) <- \"I:\\\\LiDea II and South\\\\las_files/chm/chm_{XLEFT}_{YBOTTOM}\"\n",
    "dsm <- grid_canopy(lasnorm, res = 2, pitfree(c(0,2,5,10,15), c(0, 1)))"
   ]
  },
  {
   "cell_type": "code",
   "execution_count": null,
   "id": "13390cf5-10b0-438b-99bf-c7450871d4e8",
   "metadata": {},
   "outputs": [],
   "source": []
  }
 ],
 "metadata": {
  "kernelspec": {
   "display_name": "R",
   "language": "R",
   "name": "ir"
  },
  "language_info": {
   "codemirror_mode": "r",
   "file_extension": ".r",
   "mimetype": "text/x-r-source",
   "name": "R",
   "pygments_lexer": "r",
   "version": "4.1.3"
  }
 },
 "nbformat": 4,
 "nbformat_minor": 5
}
