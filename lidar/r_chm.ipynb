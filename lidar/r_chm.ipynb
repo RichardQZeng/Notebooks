{
 "cells": [
  {
   "cell_type": "code",
   "id": "222db1d1-a00a-47c7-9c8d-620f3a5a710d",
   "metadata": {},
   "source": [
    "library(terra)\n",
    "library(sf)\n",
    "library(raster)\n",
    "library(tmap)\n",
    "library(tmaptools)\n",
    "library(lidR)\n",
    "library(RStoolbox)\n",
    "library(future)\n"
   ],
   "outputs": [],
   "execution_count": null
  },
  {
   "cell_type": "markdown",
   "id": "e210b2e9-8a90-42f2-aa20-9bf1ce2a1fe0",
   "metadata": {},
   "source": "***LiDAR***"
  },
  {
   "cell_type": "code",
   "id": "2375a503-de45-4d22-a6f8-4860097f3993",
   "metadata": {},
   "source": [
    "las_cat <- catalog(\"I:\\\\LiDea II and South\\\\las_files\")  # Use catalog instead of readLAScatalog\n",
    "# projection(las_cat) <- \"+proj=utm +zone=17 +ellps=GRS80 +datum=NAD83 +units=m +no_defs \"\n",
    "summary(las_cat)\n",
    "las_check(las_cat)"
   ],
   "outputs": [],
   "execution_count": null
  },
  {
   "metadata": {},
   "cell_type": "markdown",
   "source": "***Creating a DTM***",
   "id": "88b5ef0c7c97954f"
  },
  {
   "metadata": {},
   "cell_type": "code",
   "source": [
    "opt_chunk_size(las_cat) <- 500\n",
    "# plot(las_cat, chunk_pattern = TRUE)\n",
    "opt_chunk_buffer(las_cat) <- 20\n",
    "plot(las_cat, chunk_pattern = TRUE)\n",
    "summary(las_cat)\n",
    "las_cat@output_options$drivers$Raster$param$overwrite <- TRUE  # overwrite rasters"
   ],
   "id": "6ef917c08ba9d2f0",
   "outputs": [],
   "execution_count": null
  },
  {
   "metadata": {},
   "cell_type": "code",
   "source": [
    "opt_output_files(las_cat) <- \"I:\\\\LiDea II and South\\\\las_files\\\\dtm/dtm_{XLEFT}_{YBOTTOM}\"\n",
    "dtm <- grid_terrain(las_cat, res = 2, knnidw(k = 10, p = 2), keep_lowest = FALSE)"
   ],
   "id": "52cdf008b500eaa2",
   "outputs": [],
   "execution_count": null
  },
  {
   "metadata": {},
   "cell_type": "markdown",
   "source": "***Plot DTM***",
   "id": "ee9a65873bf90e71"
  },
  {
   "metadata": {},
   "cell_type": "code",
   "source": [
    "tm_shape(dtm) +\n",
    "  tm_raster(style= \"quantile\", palette=get_brewer_pal(\"Greys\", plot=FALSE)) +\n",
    "  tm_layout(legend.outside = TRUE)"
   ],
   "id": "d6d48aa973e2715e",
   "outputs": [],
   "execution_count": null
  },
  {
   "metadata": {},
   "cell_type": "markdown",
   "source": "***Creating Hillshade***",
   "id": "1fe6fa4a4699e827"
  },
  {
   "metadata": {},
   "cell_type": "code",
   "source": [
    "slope <- terrain(dtm, opt='slope')\n",
    "aspect <- terrain(dtm, opt='aspect')\n",
    "hs <- hillShade(slope, aspect, angle=45, direction=315)"
   ],
   "id": "56cdff0c5336fed5",
   "outputs": [],
   "execution_count": null
  },
  {
   "metadata": {},
   "cell_type": "markdown",
   "source": "***Plot Hillshade***",
   "id": "2d4968fd9543f86f"
  },
  {
   "metadata": {},
   "cell_type": "code",
   "source": [
    "tm_shape(hs)+\n",
    "  tm_raster(style= \"cont\", palette=get_brewer_pal(\"Greys\", plot=FALSE))+\n",
    "  tm_layout(legend.outside = TRUE)"
   ],
   "id": "f77cc7456cb5c5cd",
   "outputs": [],
   "execution_count": null
  },
  {
   "metadata": {},
   "cell_type": "markdown",
   "source": "***Creating nDSM***",
   "id": "891b172d4bf787ad"
  },
  {
   "metadata": {},
   "cell_type": "code",
   "source": [
    "opt_output_files(las_cat) <- \"I:\\\\LiDea II and South\\\\las_files/norm/norm_{XLEFT}_{YBOTTOM}\"\n",
    "lasnorm <- normalize_height(las_cat, dtm)\n",
    "opt_output_files(las_cat) <- \"I:\\\\LiDea II and South\\\\las_files/dsm/dsm_{XLEFT}_{YBOTTOM}\"\n",
    "dsm <- grid_canopy(las_cat, res = 2, pitfree(c(0,2,5,10,15), c(0, 1)))"
   ],
   "id": "9e137b7f29614939",
   "outputs": [],
   "execution_count": null
  },
  {
   "metadata": {},
   "cell_type": "markdown",
   "source": "***Plot nDSM***",
   "id": "6acc0ed253da7436"
  },
  {
   "metadata": {},
   "cell_type": "code",
   "source": [
    "ndsm <- dsm - dtm\n",
    "ndsm[ndsm<0]=0\n",
    "\n",
    "ndsm\n",
    "tm_shape(ndsm)+\n",
    "  tm_raster(style= \"quantile\", n=7, palette=get_brewer_pal(\"Greens\", n=7, plot=FALSE))+\n",
    "  tm_layout(legend.outside = TRUE)\n",
    "  \n",
    "writeRaster(ndsm,'I:\\\\LiDea II and South\\\\las_files\\\\chm.tif')"
   ],
   "id": "b86dd475c15c6e4f",
   "outputs": [],
   "execution_count": null
  },
  {
   "metadata": {},
   "cell_type": "markdown",
   "source": "***Calculate Point Cloud Statistics in Cells***",
   "id": "8b629d86731574b4"
  },
  {
   "metadata": {},
   "cell_type": "code",
   "source": [
    "opt_output_files(las_cat) <- \"I:\\\\LiDea II and South\\\\las_files/means/means_{XLEFT}_{YBOTTOM}\"\n",
    "opt_filter(las_cat) <- \"-keep_first\"\n",
    "metrics <- grid_metrics(las_cat, ~mean(Z), 10)\n",
    "\n",
    "metrics[metrics<0]=0\n",
    "tm_shape(metrics)+\n",
    "  tm_raster(style= \"quantile\", n=7, palette=get_brewer_pal(\"Greens\", n=7, plot=FALSE))+\n",
    "  tm_layout(legend.outside = TRUE)"
   ],
   "id": "9d21d3677dcbbe3d",
   "outputs": [],
   "execution_count": null
  },
  {
   "metadata": {},
   "cell_type": "markdown",
   "source": "***Visualize Return Intensity***",
   "id": "dc3c6b668a7860c8"
  },
  {
   "metadata": {},
   "cell_type": "code",
   "source": [
    "opt_output_files(las_cat) <- \"I:\\\\LiDea II and South\\\\las_files/int/int_{XLEFT}_{YBOTTOM}\"\n",
    "opt_filter(las_cat) <- \"-keep_first\"\n",
    "int <- grid_metrics(las_cat, ~mean(Intensity), 5)\n",
    "\n",
    "int[int<0]=0\n",
    "tm_shape(int)+\n",
    "  tm_raster(style= \"quantile\", n=7, palette=get_brewer_pal(\"-Greys\", n=7, plot=FALSE))+\n",
    "  tm_layout(legend.outside = TRUE)"
   ],
   "id": "f5e20aea7f660e95",
   "outputs": [],
   "execution_count": null
  },
  {
   "metadata": {},
   "cell_type": "code",
   "source": [
    "\n",
    "las1 <- readLAS(\"I:\\\\LiDea II and South\\\\las_files\\\\tiles_338000_5238000_1.laz\")\n",
    "las1_dtm <- grid_terrain(las1, res = 2, knnidw(k = 10, p = 2), keep_lowest = FALSE)\n",
    "las1_n <- normalize_height(las1, las1_dtm)\n",
    "las1_vox <- grid_metrics(las1_n, ~sd(Z), res = 5)\n",
    "\n",
    "tm_shape(las1_vox)+\n",
    "  tm_raster(style= \"quantile\", n=7, palette=get_brewer_pal(\"-Greys\", n=7, plot=FALSE))+\n",
    "  tm_layout(legend.outside = TRUE)"
   ],
   "id": "2c62ec192044f34a",
   "outputs": [],
   "execution_count": null
  },
  {
   "metadata": {},
   "cell_type": "markdown",
   "source": "# Image Processing",
   "id": "ebb79abaf8d29ef1"
  },
  {
   "metadata": {},
   "cell_type": "code",
   "source": [
    "ls8 <- brick(\"I:\\\\LiDea II and South\\\\las_files\\\\ls8example.tif\")\n",
    "plotRGB(ls8, r=1, g=2, b=3, stretch=\"lin\")\n",
    "\n",
    "ndvi <- (ls8example.1-ls8example.2)/((ls8example.1+ls8example.2)+.001)\n",
    "tm_shape(ndvi)+\n",
    "  tm_raster(style= \"quantile\", n=7, palette=get_brewer_pal(\"Greens\", n = 7, plot=FALSE))+\n",
    "  tm_layout(legend.outside = TRUE)"
   ],
   "id": "a6a5b4c3b5f8a67b",
   "outputs": [],
   "execution_count": null
  },
  {
   "metadata": {},
   "cell_type": "code",
   "source": "names(ls8)",
   "id": "2543f0e14a4c8c65",
   "outputs": [],
   "execution_count": null
  },
  {
   "metadata": {},
   "cell_type": "markdown",
   "source": "# Check and handle missing values for PCA",
   "id": "f2c76ae3a577e909"
  },
  {
   "metadata": {},
   "cell_type": "code",
   "source": [
    "ls8 <- stack(\"I:\\\\LiDea II and South\\\\las_files\\\\ls8example.tif\")\n",
    "ls8 <- calc(ls8, function(x) ifelse(is.finite(x), x, NA))"
   ],
   "id": "a57bff8a3271e480",
   "outputs": [],
   "execution_count": null
  },
  {
   "metadata": {},
   "cell_type": "markdown",
   "source": [
    "# Principle Compenent Analysis\n",
    "# Check and handle missing values for PCA "
   ],
   "id": "7e6c4d3f63f62f25"
  },
  {
   "metadata": {},
   "cell_type": "code",
   "source": [
    "ls8 <- stack(\"D:/R Projects/spatial/lidar/ls8example.tif\")\n",
    "ls8 <- calc(ls8, function(x) ifelse(is.finite(x), x, NA))\n",
    "ls8_pca <- rasterPCA(ls8, nSamples = NULL, nComp = nlayers(ls8), spca = FALSE)"
   ],
   "id": "3974a9d207f5b76b",
   "outputs": [],
   "execution_count": null
  },
  {
   "metadata": {},
   "cell_type": "code",
   "source": [
    "ls8_pca_img <- stack(ls8_pca$map)\n",
    "plotRGB(ls8_pca_img, r=1, b=2, g=3, stretch=\"lin\")"
   ],
   "id": "87e6321ef34ba0a",
   "outputs": [],
   "execution_count": null
  },
  {
   "metadata": {},
   "cell_type": "code",
   "source": "ls8_pca$model",
   "id": "8ba5bdc2e9760f33",
   "outputs": [],
   "execution_count": null
  },
  {
   "metadata": {},
   "cell_type": "code",
   "source": "ls8_pca$model$loadings",
   "id": "e4dc6591dc7a9fd",
   "outputs": [],
   "execution_count": null
  },
  {
   "metadata": {},
   "cell_type": "code",
   "source": [
    "pre <- brick(\"D:/R Projects/spatial/lidar/pre_ref.img\")\n",
    "post <- brick(\"D:/R Projects/spatial/lidar/post_ref.img\")"
   ],
   "id": "b214b42521d3b7fe",
   "outputs": [],
   "execution_count": null
  },
  {
   "metadata": {},
   "cell_type": "code",
   "source": [
    "plotRGB(pre, r=6, g=4, b=2, stretch=\"lin\")\n",
    "plotRGB(post, r=6, g=4, b=2, stretch=\"lin\")"
   ],
   "id": "1a7b3eca23a65dbd",
   "outputs": [],
   "execution_count": null
  },
  {
   "metadata": {},
   "cell_type": "code",
   "source": [
    "names(pre) <- c(\"Blue\", \"Green\", \"Red\", \"NIR\", \"SWIR1\", \"SWIR2\")\n",
    "names(post) <- c(\"Blue\", \"Green\", \"Red\", \"NIR\", \"SWIR1\", \"SWIR2\")"
   ],
   "id": "e912d0e5e4893e2",
   "outputs": [],
   "execution_count": null
  },
  {
   "metadata": {},
   "cell_type": "code",
   "source": [
    "pre_brightness <- (pre$Blue*.3561) + (pre$Green*.3972) + (pre$Red*.3904) + (pre$NIR*.6966) + (pre$SWIR1*.2286) + (pre$SWIR2*.1596)\n",
    "pre_greenness <- (pre$Blue*-.3344) + (pre$Green*-.3544) + (pre$Red*-.4556) + (pre$NIR*.6966) + (pre$SWIR1*-.0242) + (pre$SWIR2*-.2630)\n",
    "pre_wetness <- (pre$Blue*.2626) + (pre$Green*.2141) + (pre$Red*.0926) + (pre$NIR*.0656) + (pre$SWIR1*-.7629) + (pre$SWIR2*-.5388)\n",
    "post_brightness <- (post$Blue*.3561) + (post$Green*.3972) + (post$Red*.3904) + (post$NIR*.6966) + (post$SWIR1*.2286) + (post$SWIR2*.1596)\n",
    "post_greenness <- (post$Blue*-.3344) + (post$Green*-.3544) + (post$Red*-.4556) + (post$NIR*.6966) + (post$SWIR1*-.0242) + (post$SWIR2*-.2630)\n",
    "post_wetness <- (post$Blue*.2626) + (post$Green*.2141) + (post$Red*.0926) + (post$NIR*.0656) + (post$SWIR1*-.7629) + (post$SWIR2*-.5388)\n",
    "pre_tc <- stack(pre_brightness, pre_greenness, pre_wetness)\n",
    "post_tc <- stack(post_brightness, post_greenness, post_wetness)"
   ],
   "id": "77d5d79c30de0e56",
   "outputs": [],
   "execution_count": null
  },
  {
   "metadata": {},
   "cell_type": "code",
   "source": [
    "plotRGB(pre_tc, r=3, g=2, b=1, stretch=\"lin\")\n",
    "plotRGB(post_tc, r=3, g=2, b=1, stretch=\"lin\")"
   ],
   "id": "74cc3e50df05dba",
   "outputs": [],
   "execution_count": null
  },
  {
   "metadata": {},
   "cell_type": "markdown",
   "source": "# Differenced Normalized Burn Ratio (dNBR)",
   "id": "816aeab1cce80654"
  },
  {
   "metadata": {},
   "cell_type": "code",
   "source": [
    "pre_nbr <- (pre$NIR - pre$SWIR2)/((pre$NIR + pre$SWIR2)+.0001)\n",
    "post_nbr <- (post$NIR - post$SWIR2)/((post$NIR + post$SWIR2)+.0001)\n",
    "dnbr <- pre_nbr - post_nbr"
   ],
   "id": "824aa4a0dae7e24c",
   "outputs": [],
   "execution_count": null
  },
  {
   "metadata": {},
   "cell_type": "code",
   "source": [
    "dnbr[dnbr <= 0] <- NA\n",
    "tm_shape(dnbr)+\n",
    "  tm_raster(style= \"equal\", n=7, palette=get_brewer_pal(\"YlOrRd\", n = 7, plot=FALSE))+\n",
    "  tm_layout(legend.outside = TRUE)"
   ],
   "id": "ee7d73b6b626bf3d",
   "outputs": [],
   "execution_count": null
  },
  {
   "metadata": {},
   "cell_type": "code",
   "source": "",
   "id": "7b4b18eab097e283",
   "outputs": [],
   "execution_count": null
  },
  {
   "metadata": {},
   "cell_type": "markdown",
   "source": "# Moving Windows",
   "id": "96707f1ce961f016"
  },
  {
   "metadata": {},
   "cell_type": "code",
   "source": "ndvi5 <- focal(ndvi, w=matrix(1/25,nrow=5,ncol=5)) ",
   "id": "8029348288249596",
   "outputs": [],
   "execution_count": null
  },
  {
   "metadata": {},
   "cell_type": "code",
   "source": [
    "tm_shape(ndvi5)+\n",
    "  tm_raster(style= \"quantile\", n=7, palette=get_brewer_pal(\"Greens\", n = 7, plot=FALSE))+\n",
    "  tm_layout(legend.outside = TRUE)"
   ],
   "id": "eaffbda2eb27b9fd",
   "outputs": [],
   "execution_count": null
  },
  {
   "metadata": {},
   "cell_type": "code",
   "source": [
    "gx <- c(2, 2, 4, 2, 2, 1, 1, 2, 1, 1, 0, 0, 0, 0, 0, -1, -1, -2, -1, -1, -1, -2, -4, -2, -2) \n",
    "gy <- c(2, 1, 0, -1, -2, 2, 1, 0, -1, -2, 4, 2, 0, -2, -4, 2, 1, 0, -1, -2, 2, 1, 0, -1, -2, 2, 1, 0, -1, -2)\n",
    "gx_m <- matrix(gx, nrow=5, ncol=5, byrow=TRUE)\n",
    "gx_m\n",
    "gy_m <- matrix(gy, nrow=5, ncol=5, byrow=TRUE)\n",
    "gy_m\n",
    "ndvi_edgex <- focal(ndvi, w=gx_m)\n",
    "ndvi_edgey <- focal(ndvi, w=gy_m) "
   ],
   "id": "b13377ca965c4b08",
   "outputs": [],
   "execution_count": null
  },
  {
   "metadata": {},
   "cell_type": "code",
   "source": [
    "tm_shape(ndvi_edgex)+\n",
    "  tm_raster(style= \"quantile\", n=7, palette=get_brewer_pal(\"-Greys\", n = 7, plot=FALSE))+\n",
    "  tm_layout(legend.outside = TRUE)"
   ],
   "id": "a4b6d3047124f664",
   "outputs": [],
   "execution_count": null
  },
  {
   "metadata": {},
   "cell_type": "code",
   "source": [
    "tm_shape(ndvi_edgey)+\n",
    "  tm_raster(style= \"quantile\", n=7, palette=get_brewer_pal(\"-Greys\", n = 7, plot=FALSE))+\n",
    "  tm_layout(legend.outside = TRUE)"
   ],
   "id": "b263c2d7245eaff1",
   "outputs": [],
   "execution_count": null
  }
 ],
 "metadata": {
  "kernelspec": {
   "display_name": "R",
   "language": "R",
   "name": "ir"
  },
  "language_info": {
   "codemirror_mode": "r",
   "file_extension": ".r",
   "mimetype": "text/x-r-source",
   "name": "R",
   "pygments_lexer": "r",
   "version": "4.1.3"
  }
 },
 "nbformat": 4,
 "nbformat_minor": 5
}
