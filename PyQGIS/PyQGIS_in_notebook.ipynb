{
 "cells": [
  {
   "cell_type": "code",
   "execution_count": null,
   "id": "7dcf15d4-4c82-477f-a85b-a01af01caf64",
   "metadata": {},
   "outputs": [],
   "source": [
    "from IPython.display import Image\n",
    "# import sys\n",
    "# sys.path.append(r'PATH_TO_ENV\\envs\\data\\Library\\python')\n",
    " \n",
    "from PyQt5.QtGui import QColor\n",
    "from PyQt5.QtWidgets import QApplication\n",
    " \n",
    "from qgis.core import QgsApplication, QgsVectorLayer, QgsProject, QgsSymbol, \\\n",
    "    QgsRendererRange, QgsGraduatedSymbolRenderer, \\\n",
    "    QgsArrowSymbolLayer, QgsLineSymbol, QgsSingleSymbolRenderer, \\\n",
    "    QgsSymbolLayer, QgsProperty\n",
    "from qgis.gui import QgsMapCanvas\n",
    " \n",
    "app = QApplication([])\n",
    "qgs = QgsApplication([], False)\n",
    "canvas = QgsMapCanvas()\n",
    "project = QgsProject.instance()\n",
    " \n",
    "vlayer = QgsVectorLayer(\"./cariboulake.gpkg\", \"My trajectory\")\n",
    "if not vlayer.isValid():\n",
    "    print(\"Layer failed to load!\")\n",
    " \n",
    "def saveImage(path, show=True): \n",
    "    canvas.saveAsImage(path)\n",
    "    if show: return Image(path)\n",
    " \n",
    "project.addMapLayer(vlayer)\n",
    "canvas.setExtent(vlayer.extent())\n",
    "canvas.setLayers([vlayer])\n",
    "canvas.show()\n",
    "app.exec_()\n",
    " "
   ]
  },
  {
   "cell_type": "code",
   "execution_count": null,
   "id": "de5fb1ab-d5e3-4f3d-87c2-fed4524951c3",
   "metadata": {},
   "outputs": [],
   "source": [
    "saveImage(\"my-map.png\")"
   ]
  },
  {
   "cell_type": "code",
   "execution_count": null,
   "id": "22044464-ac84-48d8-8f1c-c9f9f43efe5a",
   "metadata": {},
   "outputs": [],
   "source": [
    "canvas.show()\n",
    "app.exec()"
   ]
  },
  {
   "cell_type": "code",
   "execution_count": null,
   "id": "482bcbd9-e0c2-459c-bf1b-b4b52bdc421b",
   "metadata": {},
   "outputs": [],
   "source": []
  }
 ],
 "metadata": {
  "kernelspec": {
   "display_name": "Python 3 (ipykernel)",
   "language": "python",
   "name": "python3"
  },
  "language_info": {
   "codemirror_mode": {
    "name": "ipython",
    "version": 3
   },
   "file_extension": ".py",
   "mimetype": "text/x-python",
   "name": "python",
   "nbconvert_exporter": "python",
   "pygments_lexer": "ipython3",
   "version": "3.11.9"
  }
 },
 "nbformat": 4,
 "nbformat_minor": 5
}
