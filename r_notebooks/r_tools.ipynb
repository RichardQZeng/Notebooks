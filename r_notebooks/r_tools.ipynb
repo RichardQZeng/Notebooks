{
 "cells": [
  {
   "cell_type": "markdown",
   "id": "656e091a0749f1",
   "metadata": {},
   "source": [
    "R Tools"
   ]
  },
  {
   "cell_type": "code",
   "execution_count": null,
   "id": "211f3420be9d8024",
   "metadata": {
    "ExecuteTime": {
     "end_time": "2024-06-29T06:46:45.973042Z",
     "start_time": "2024-06-29T06:46:45.946597Z"
    }
   },
   "outputs": [],
   "source": [
    "##### Run within RStudio\n",
    "### Funtion :chm_by_dsmtin\n",
    "### Comment out\n",
    "###chm_by_dsmtin <- function(in_las_folder,out_folder,cell_size,is_normalized,rprocesses){\n",
    "in_las_folder<-\"D:\\\\your_input_lidar_data_folder\"\n",
    "out_folder<- \"D:\\\\your_output_folder\"\n",
    "cell_size<-0.1\n",
    "is_normalized<-FALSE\n",
    "rprocesses<-4\n",
    "library(lidR)\n",
    "library(future)\n",
    "if (cell_size<1.0){rprocesses=rprocesses/2}\n",
    "plan(multisession,workers=rprocesses)\n",
    "set_lidr_threads(rprocesses)\n",
    "ctg<- readLAScatalog(in_las_folder,filter='-drop_class 7')\n",
    "\n",
    "if (is_normalized){\n",
    "    print(\"Generating CHM using TIN...\")\n",
    "    opt_output_files(ctg)<- opt_output_files(ctg)<-paste0(out_folder,\"/{*}_chm\")}\n",
    "else{\n",
    "    print(\"Generating DSM using TIN...\")\n",
    "    opt_output_files(ctg)<- opt_output_files(ctg)<-paste0(out_folder,\"/{*}_dsm\")}\n",
    "    \n",
    "ctg@output_options$drivers$SpatRaster$param$overwrite <- TRUE\n",
    "ctg@output_options$drivers$Raster$param$overwrite <- TRUE\n",
    "opt_progress(ctg) <- TRUE\n",
    "chm <- rasterize_canopy(ctg, cell_size, dsmtin(max_edge = (3*cell_size)), pkg = \"terra\")\n",
    "  # reset R mutilsession back to default\n",
    "plan(sequential)\n",
    "  ###Comment out\n",
    "  #}"
   ]
  },
  {
   "cell_type": "code",
   "execution_count": null,
   "id": "6579d4caa3091c98",
   "metadata": {},
   "outputs": [],
   "source": []
  }
 ],
 "metadata": {
  "kernelspec": {
   "display_name": "R",
   "language": "R",
   "name": "ir"
  },
  "language_info": {
   "codemirror_mode": {
    "name": "ipython",
    "version": 2
   },
   "file_extension": ".py",
   "mimetype": "text/x-python",
   "name": "python",
   "nbconvert_exporter": "python",
   "pygments_lexer": "ipython2",
   "version": "2.7.6"
  }
 },
 "nbformat": 4,
 "nbformat_minor": 5
}
