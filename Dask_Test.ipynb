{
 "cells": [
  {
   "cell_type": "code",
   "execution_count": null,
   "metadata": {},
   "outputs": [],
   "source": [
    "import time\n",
    "import random\n",
    "from dask.distributed import Client, progress, as_completed"
   ]
  },
  {
   "cell_type": "code",
   "execution_count": null,
   "metadata": {},
   "outputs": [],
   "source": [
    "client = Client(threads_per_worker=4, n_workers=20)\n",
    "client"
   ]
  },
  {
   "cell_type": "code",
   "execution_count": null,
   "metadata": {},
   "outputs": [],
   "source": [
    "def inc(x):\n",
    "    sleep_time = random.random()\n",
    "    time.sleep(random.random())\n",
    "    return x + 1, sleep_time"
   ]
  },
  {
   "cell_type": "code",
   "execution_count": null,
   "metadata": {},
   "outputs": [],
   "source": [
    "zs = range(10240)\n",
    "zs"
   ]
  },
  {
   "cell_type": "code",
   "execution_count": null,
   "metadata": {},
   "outputs": [],
   "source": [
    "zs1 = client.map(inc, zs)\n",
    "seq = as_completed(zs1)\n",
    "\n",
    "for i in seq:\n",
    "    print(i.result())"
   ]
  },
  {
   "cell_type": "code",
   "execution_count": null,
   "metadata": {},
   "outputs": [],
   "source": [
    "client.close()"
   ]
  },
  {
   "cell_type": "code",
   "execution_count": null,
   "metadata": {},
   "outputs": [],
   "source": [
    "import ray\n",
    "\n",
    "@ray.remote\n",
    "def f(a, b, c):\n",
    "    return a + b + c\n",
    "\n",
    "object_ref = f.remote(1, 2, 3)\n",
    "result = ray.get(object_ref)\n",
    "assert result == (1 + 2 + 3)"
   ]
  },
  {
   "cell_type": "code",
   "execution_count": null,
   "metadata": {},
   "outputs": [],
   "source": [
    "@ray.remote\n",
    "class Foo:\n",
    "    def __init__(self, arg):\n",
    "        self.x = arg\n",
    "\n",
    "    def method(self, a):\n",
    "        return self.x + a"
   ]
  },
  {
   "cell_type": "code",
   "execution_count": null,
   "metadata": {},
   "outputs": [],
   "source": [
    "actor_handle = Foo.remote(123)\n",
    "object_ref = actor_handle.method.remote(321)\n",
    "result = ray.get(object_ref)"
   ]
  },
  {
   "cell_type": "code",
   "execution_count": null,
   "metadata": {},
   "outputs": [],
   "source": [
    "import time\n",
    "import ray\n",
    "import random\n",
    "\n",
    "ray.init(num_cpus=20) # Specify this system has 4 CPUs.\n",
    "\n",
    "@ray.remote\n",
    "def do_some_work(x):\n",
    "    time.sleep(random.random()/10) # Replace this with work you need to do.\n",
    "    return x\n",
    "\n",
    "results = [do_some_work.remote(x) for x in range(100)]\n",
    "lst = []\n",
    "while len(results):\n",
    "    done_id, result_ids = ray.wait(results) \n",
    "    result = ray.get(done_id[0])\n",
    "    lst.append(result)\n",
    "    print(\"results =\", result)"
   ]
  },
  {
   "cell_type": "code",
   "execution_count": null,
   "metadata": {},
   "outputs": [],
   "source": [
    "ray.shutdown()"
   ]
  }
 ],
 "metadata": {
  "kernelspec": {
   "display_name": "bera39",
   "language": "python",
   "name": "python3"
  },
  "language_info": {
   "codemirror_mode": {
    "name": "ipython",
    "version": 3
   },
   "file_extension": ".py",
   "mimetype": "text/x-python",
   "name": "python",
   "nbconvert_exporter": "python",
   "pygments_lexer": "ipython3",
   "version": "3.11.8"
  }
 },
 "nbformat": 4,
 "nbformat_minor": 2
}
