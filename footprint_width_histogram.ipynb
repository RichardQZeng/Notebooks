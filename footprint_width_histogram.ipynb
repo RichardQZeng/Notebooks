{
 "cells": [
  {
   "cell_type": "code",
   "execution_count": null,
   "metadata": {},
   "outputs": [],
   "source": [
    "import plotly.express as px\n",
    "import geopandas as gpd\n",
    "from ast import literal_eval\n",
    "import numpy as np\n",
    "import pandas as pd\n",
    "import requests\n",
    "\n",
    "import plotly.graph_objects as go\n",
    "from plotly.subplots import make_subplots\n",
    "\n",
    "# fp_path = r\".\\footprint_fixed.geojson\"\n",
    "# gdf = gpd.read_file(fp_path)\n",
    "res = requests.get(\"https://raw.githubusercontent.com/RichardQZeng/Notebooks/main/footprint_fixed.geojson\")\n",
    "gdf = gpd.read_file(res.text)"
   ]
  },
  {
   "cell_type": "code",
   "execution_count": null,
   "metadata": {},
   "outputs": [],
   "source": [
    "gdf.head()"
   ]
  },
  {
   "cell_type": "code",
   "execution_count": null,
   "metadata": {},
   "outputs": [],
   "source": [
    "def array_eval(x):\\n\",\n",
    "    \"    array_str = ','.join(x.split())\\n\",\n",
    "    \"    array_str = array_str.replace('[,', '[')\\n\",\n",
    "    \"    array_str = array_str.replace('\\\\n', '')\\n\",\n",
    "    \"    return np.array(literal_eval(array_str))\\n\",\n",
    "    \"\\n\",\n",
    "    \"gdf['sampling_widths'] = gdf['sampling_widths'].apply(array_eval)\""
   ]
  },
  {
   "cell_type": "code",
   "execution_count": null,
   "metadata": {},
   "outputs": [],
   "source": [
    "groups, res = divmod(len(gdf), 4)\n",
    "bins =8\n",
    "\n",
    "for i in range(groups):\n",
    "    fig = make_subplots(rows=1, cols=4)\n",
    "\n",
    "    arr = gdf['sampling_widths'][i*4]\n",
    "    trace0 = go.Histogram(x=arr, nbinsx=bins)\n",
    "\n",
    "    arr = gdf['sampling_widths'][i*4+1]\n",
    "    trace1 = go.Histogram(x=arr, nbinsx=bins)\n",
    "\n",
    "    arr = gdf['sampling_widths'][i*4+2]\n",
    "    trace2 = go.Histogram(x=arr, nbinsx=bins)\n",
    "\n",
    "    arr = gdf['sampling_widths'][i*4+3]\n",
    "    trace3 = go.Histogram(x=arr, nbinsx=bins)\n",
    "\n",
    "    fig.append_trace(trace0, 1, 1)\n",
    "    fig.append_trace(trace1, 1, 2)\n",
    "    fig.append_trace(trace2, 1, 3)\n",
    "    fig.append_trace(trace3, 1, 4)\n",
    "\n",
    "    print(\"Group {}\".format(i))\n",
    "    fig.show()"
   ]
  },
  {
   "cell_type": "code",
   "execution_count": null,
   "metadata": {},
   "outputs": [],
   "source": []
  }
 ],
 "metadata": {
  "kernelspec": {
   "display_name": "bera39",
   "language": "python",
   "name": "python3"
  },
  "language_info": {
   "codemirror_mode": {
    "name": "ipython",
    "version": 3
   },
   "file_extension": ".py",
   "mimetype": "text/x-python",
   "name": "python",
   "nbconvert_exporter": "python",
   "pygments_lexer": "ipython3",
   "version": "3.11.8"
  }
 },
 "nbformat": 4,
 "nbformat_minor": 2
}
